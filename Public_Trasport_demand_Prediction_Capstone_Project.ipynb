{
  "nbformat": 4,
  "nbformat_minor": 0,
  "metadata": {
    "colab": {
      "private_outputs": true,
      "provenance": [],
      "collapsed_sections": [
        "w6K7xa23Elo4",
        "yQaldy8SH6Dl",
        "mDgbUHAGgjLW",
        "H0kj-8xxnORC",
        "MSa1f5Uengrz",
        "g-ATYxFrGrvw",
        "Yfr_Vlr8HBkt",
        "8yEUt7NnHlrM",
        "tEA2Xm5dHt1r",
        "I79__PHVH19G",
        "Ou-I18pAyIpj",
        "fF3858GYyt-u",
        "4_0_7-oCpUZd",
        "hwyV_J3ipUZe",
        "3yB-zSqbpUZe",
        "dEUvejAfpUZe",
        "Fd15vwWVpUZf",
        "49K5P_iCpZyH",
        "kLW572S8pZyI",
        "yLjJCtPM0KBk",
        "xiyOF9F70UgQ",
        "7wuGOrhz0itI",
        "id1riN9m0vUs",
        "578E2V7j08f6",
        "89xtkJwZ18nB",
        "67NQN5KX2AMe",
        "Iwf50b-R2tYG",
        "GMQiZwjn3iu7",
        "WVIkgGqN3qsr",
        "XkPnILGE3zoT",
        "Hlsf0x5436Go",
        "mT9DMSJo4nBL",
        "c49ITxTc407N",
        "OeJFEK0N496M",
        "9ExmJH0g5HBk",
        "cJNqERVU536h",
        "k5UmGsbsOxih",
        "T0VqWOYE6DLQ",
        "qBMux9mC6MCf",
        "-oLEiFgy-5Pf",
        "C74aWNz2AliB",
        "2DejudWSA-a0",
        "pEMng2IbBLp7",
        "rAdphbQ9Bhjc",
        "TNVZ9zx19K6k",
        "nqoHp30x9hH9",
        "rMDnDkt2B6du",
        "yiiVWRdJDDil",
        "1UUpS68QDMuG",
        "kexQrXU-DjzY",
        "T5CmagL3EC8N",
        "BhH2vgX9EjGr",
        "qjKvONjwE8ra",
        "P1XJ9OREExlT",
        "VFOzZv6IFROw",
        "TIqpNgepFxVj",
        "VfCC591jGiD4",
        "OB4l2ZhMeS1U",
        "ArJBuiUVfxKd",
        "4qY1EAkEfxKe",
        "PiV4Ypx8fxKe",
        "TfvqoZmBfxKf",
        "dJ2tPlVmpsJ0",
        "JWYfwnehpsJ1",
        "-jK_YjpMpsJ2",
        "HAih1iBOpsJ2",
        "zVGeBEFhpsJ2",
        "bmKjuQ-FpsJ3",
        "Fze-IPXLpx6K",
        "7AN1z2sKpx6M",
        "9PIHJqyupx6M",
        "_-qAgymDpx6N",
        "Z-hykwinpx6N",
        "h_CCil-SKHpo",
        "cBFFvTBNJzUa",
        "HvGl1hHyA_VK",
        "EyNgTHvd2WFk",
        "KH5McJBi2d8v",
        "iW_Lq9qf2h6X",
        "-Kee-DAl2viO",
        "gCX9965dhzqZ",
        "gIfDvo9L0UH2"
      ],
      "include_colab_link": true
    },
    "kernelspec": {
      "name": "python3",
      "display_name": "Python 3"
    },
    "language_info": {
      "name": "python"
    },
    "accelerator": "TPU",
    "gpuClass": "standard"
  },
  "cells": [
    {
      "cell_type": "markdown",
      "metadata": {
        "id": "view-in-github",
        "colab_type": "text"
      },
      "source": [
        "<a href=\"https://colab.research.google.com/github/VHP2305/Regression-Capstone/blob/main/Public_Trasport_demand_Prediction_Capstone_Project.ipynb\" target=\"_parent\"><img src=\"https://colab.research.google.com/assets/colab-badge.svg\" alt=\"Open In Colab\"/></a>"
      ]
    },
    {
      "cell_type": "markdown",
      "source": [
        "# **Project Name**    - \n",
        "\n"
      ],
      "metadata": {
        "id": "vncDsAP0Gaoa"
      }
    },
    {
      "cell_type": "markdown",
      "source": [
        "##### **Project Type**    - Regression\n",
        "##### **Contribution**    - Individual\n",
        "##### **Team Member 1 -** Vishal Patel\n"
      ],
      "metadata": {
        "id": "beRrZCGUAJYm"
      }
    },
    {
      "cell_type": "markdown",
      "source": [
        "# **Project Summary -**"
      ],
      "metadata": {
        "id": "FJNUwmbgGyua"
      }
    },
    {
      "cell_type": "markdown",
      "source": [
        "## <b> Problem Description </b>\n",
        "\n",
        "### This challenge asks you to build a model that predicts the number of seats that Mobiticket can expect to sell for each ride, i.e. for a specific route on a specific date and time. There are 14 routes in this dataset. All of the routes end in Nairobi and originate in towns to the North-West of Nairobi towards Lake Victoria.\n",
        "\n",
        "\n",
        "### The towns from which these routes originate are:\n",
        "\n",
        "* Awendo\n",
        "* Homa Bay\n",
        "* Kehancha\n",
        "* Kendu Bay\n",
        "* Keroka\n",
        "* Keumbu\n",
        "* Kijauri\n",
        "* Kisii\n",
        "* Mbita\n",
        "* Migori\n",
        "* Ndhiwa\n",
        "* Nyachenge\n",
        "* Oyugis\n",
        "* Rodi\n",
        "* Rongo\n",
        "* Sirare\n",
        "* Sori\n",
        "\n",
        "### The routes from these 14 origins to the first stop in the outskirts of Nairobi takes approximately 8 to 9 hours from time of departure. From the first stop in the outskirts of Nairobi into the main bus terminal, where most passengers get off, in Central Business District, takes another 2 to 3 hours depending on traffic.\n",
        "\n",
        "### The three stops that all these routes make in Nairobi (in order) are:\n",
        "\n",
        "1. Kawangware: the first stop in the outskirts of Nairobi\n",
        "2. Westlands\n",
        "3. Afya Centre: the main bus terminal where most passengers disembark\n",
        "\n",
        "### All of these points are mapped [here](https://www.google.com/maps/d/viewer?mid=1Ef2pFdP8keVHHid8bwju2raoRvjOGagN&ll=-0.8281897101491997%2C35.51706279999996&z=8).\n",
        "\n",
        "### Passengers of these bus (or shuttle) rides are affected by Nairobi traffic not only during their ride into the city, but from there they must continue their journey to their final destination in Nairobi wherever that may be. Traffic can act as a deterrent for those who have the option to avoid buses that arrive in Nairobi during peak traffic hours. On the other hand, traffic may be an indication for people’s movement patterns, reflecting business hours, cultural events, political events, and holidays."
      ],
      "metadata": {
        "id": "F6v_1wHtG2nS"
      }
    },
    {
      "cell_type": "markdown",
      "source": [
        "# **GitHub Link -**"
      ],
      "metadata": {
        "id": "w6K7xa23Elo4"
      }
    },
    {
      "cell_type": "markdown",
      "source": [
        "Provide your GitHub Link here."
      ],
      "metadata": {
        "id": "h1o69JH3Eqqn"
      }
    },
    {
      "cell_type": "markdown",
      "source": [
        "# **Problem Statement**\n"
      ],
      "metadata": {
        "id": "yQaldy8SH6Dl"
      }
    },
    {
      "cell_type": "markdown",
      "source": [
        "**Write Problem Statement Here.**"
      ],
      "metadata": {
        "id": "DpeJGUA3kjGy"
      }
    },
    {
      "cell_type": "markdown",
      "source": [
        "# **General Guidelines** : -  "
      ],
      "metadata": {
        "id": "mDgbUHAGgjLW"
      }
    },
    {
      "cell_type": "markdown",
      "source": [
        "1.   Well-structured, formatted, and commented code is required. \n",
        "2.   Exception Handling, Production Grade Code & Deployment Ready Code will be a plus. Those students will be awarded some additional credits. \n",
        "     \n",
        "     The additional credits will have advantages over other students during Star Student selection.\n",
        "       \n",
        "             [ Note: - Deployment Ready Code is defined as, the whole .ipynb notebook should be executable in one go\n",
        "                       without a single error logged. ]\n",
        "\n",
        "3.   Each and every logic should have proper comments.\n",
        "4. You may add as many number of charts you want. Make Sure for each and every chart the following format should be answered.\n",
        "        \n",
        "\n",
        "```\n",
        "# Chart visualization code\n",
        "```\n",
        "            \n",
        "\n",
        "*   Why did you pick the specific chart?\n",
        "*   What is/are the insight(s) found from the chart?\n",
        "* Will the gained insights help creating a positive business impact? \n",
        "Are there any insights that lead to negative growth? Justify with specific reason.\n",
        "\n",
        "5. You have to create at least 15 logical & meaningful charts having important insights.\n",
        "\n",
        "\n",
        "[ Hints : - Do the Vizualization in  a structured way while following \"UBM\" Rule. \n",
        "\n",
        "U - Univariate Analysis,\n",
        "\n",
        "B - Bivariate Analysis (Numerical - Categorical, Numerical - Numerical, Categorical - Categorical)\n",
        "\n",
        "M - Multivariate Analysis\n",
        " ]\n",
        "\n",
        "\n",
        "\n",
        "\n",
        "\n",
        "6. You may add more ml algorithms for model creation. Make sure for each and every algorithm, the following format should be answered.\n",
        "\n",
        "\n",
        "*   Explain the ML Model used and it's performance using Evaluation metric Score Chart.\n",
        "\n",
        "\n",
        "*   Cross- Validation & Hyperparameter Tuning\n",
        "\n",
        "*   Have you seen any improvement? Note down the improvement with updates Evaluation metric Score Chart.\n",
        "\n",
        "*   Explain each evaluation metric's indication towards business and the business impact pf the ML model used.\n",
        "\n",
        "\n",
        "\n",
        "\n",
        "\n",
        "\n",
        "\n",
        "\n",
        "\n",
        "\n",
        "\n",
        "\n",
        "\n",
        "\n",
        "\n",
        "\n",
        "\n",
        "\n"
      ],
      "metadata": {
        "id": "ZrxVaUj-hHfC"
      }
    },
    {
      "cell_type": "markdown",
      "source": [
        "# ***Let's Begin !***"
      ],
      "metadata": {
        "id": "O_i_v8NEhb9l"
      }
    },
    {
      "cell_type": "markdown",
      "source": [
        "## ***1. Know Your Data***"
      ],
      "metadata": {
        "id": "HhfV-JJviCcP"
      }
    },
    {
      "cell_type": "markdown",
      "source": [
        "### Import Libraries"
      ],
      "metadata": {
        "id": "Y3lxredqlCYt"
      }
    },
    {
      "cell_type": "code",
      "source": [
        "# Import Libraries\n",
        "\n",
        "import pandas as pd\n",
        "import numpy as np\n",
        "import seaborn as sns\n",
        "import matplotlib.pyplot as plt\n",
        "%matplotlib inline\n",
        "\n",
        "import warnings\n",
        "warnings.filterwarnings('ignore')"
      ],
      "metadata": {
        "id": "M8Vqi-pPk-HR"
      },
      "execution_count": null,
      "outputs": []
    },
    {
      "cell_type": "markdown",
      "source": [
        "### Dataset Loading"
      ],
      "metadata": {
        "id": "3RnN4peoiCZX"
      }
    },
    {
      "cell_type": "code",
      "source": [
        "#mount the drive\n",
        "from google.colab import drive\n",
        "drive.mount('/content/drive')"
      ],
      "metadata": {
        "id": "4CkvbW_SlZ_R"
      },
      "execution_count": null,
      "outputs": []
    },
    {
      "cell_type": "code",
      "source": [
        "# read the dataset      \n",
        "dataset = pd.read_csv('/content/drive/MyDrive/Colab Notebooks/ML Module/Regression Capstone Project/train_revised.csv')\n"
      ],
      "metadata": {
        "id": "n3-NS12xA9Au"
      },
      "execution_count": null,
      "outputs": []
    },
    {
      "cell_type": "code",
      "source": [
        "#first 5 values\n",
        "dataset.head()"
      ],
      "metadata": {
        "id": "g_YtL4FwA89w"
      },
      "execution_count": null,
      "outputs": []
    },
    {
      "cell_type": "markdown",
      "source": [
        "### Dataset First View"
      ],
      "metadata": {
        "id": "x71ZqKXriCWQ"
      }
    },
    {
      "cell_type": "code",
      "source": [
        "# Dataset First Look\n",
        "dataset.head()"
      ],
      "metadata": {
        "id": "LWNFOSvLl09H"
      },
      "execution_count": null,
      "outputs": []
    },
    {
      "cell_type": "markdown",
      "source": [
        "### Dataset Rows & Columns count"
      ],
      "metadata": {
        "id": "7hBIi_osiCS2"
      }
    },
    {
      "cell_type": "code",
      "source": [
        "# Dataset Rows & Columns count\n",
        "dataset.shape\n"
      ],
      "metadata": {
        "id": "Kllu7SJgmLij"
      },
      "execution_count": null,
      "outputs": []
    },
    {
      "cell_type": "markdown",
      "source": [
        "### Dataset Information"
      ],
      "metadata": {
        "id": "JlHwYmJAmNHm"
      }
    },
    {
      "cell_type": "code",
      "source": [
        "# Dataset Info\n",
        "dataset.info()"
      ],
      "metadata": {
        "id": "e9hRXRi6meOf"
      },
      "execution_count": null,
      "outputs": []
    },
    {
      "cell_type": "markdown",
      "source": [
        "#### Duplicate Values"
      ],
      "metadata": {
        "id": "35m5QtbWiB9F"
      }
    },
    {
      "cell_type": "code",
      "source": [
        "# Dataset Duplicate Value Count\n",
        "dataset[dataset.duplicated()]"
      ],
      "metadata": {
        "id": "1sLdpKYkmox0"
      },
      "execution_count": null,
      "outputs": []
    },
    {
      "cell_type": "markdown",
      "source": [
        "#### Missing Values/Null Values"
      ],
      "metadata": {
        "id": "PoPl-ycgm1ru"
      }
    },
    {
      "cell_type": "code",
      "source": [
        "# Missing Values/Null Values Count\n",
        "dataset.isna().sum()"
      ],
      "metadata": {
        "id": "GgHWkxvamxVg"
      },
      "execution_count": null,
      "outputs": []
    },
    {
      "cell_type": "markdown",
      "source": [
        "### What did you know about your dataset?"
      ],
      "metadata": {
        "id": "H0kj-8xxnORC"
      }
    },
    {
      "cell_type": "markdown",
      "source": [
        "Answer Here"
      ],
      "metadata": {
        "id": "gfoNAAC-nUe_"
      }
    },
    {
      "cell_type": "markdown",
      "source": [
        "## ***2. Understanding Your Variables***"
      ],
      "metadata": {
        "id": "nA9Y7ga8ng1Z"
      }
    },
    {
      "cell_type": "code",
      "source": [
        "# Dataset Describe\n",
        "dataset.describe(include='all')"
      ],
      "metadata": {
        "id": "DnOaZdaE5Q5t"
      },
      "execution_count": null,
      "outputs": []
    },
    {
      "cell_type": "markdown",
      "source": [
        "#**Summary:-**\n",
        "1. In Ride_id, there are 6249 unique values.\n",
        "\n",
        "2. There are total 61 unique seats in this dataset.\n",
        "\n",
        "3. Travelers have used 2 types of payment method and most of the people(i.e. 51532 out of 51645) have used Mpesa to pay for their ticket.\n",
        "\n",
        "4.  The record of 149 days is present in this dataset.\n",
        "\n",
        "5. In travel_time, there are 78 unique time.\n",
        "\n",
        "6. There are 17 towns where rides are originated and 22607 rides are only originated from Kisii.\n",
        "\n",
        "7. There are 2 type of cars and most of them(31985 out of 51645) are bus.\n",
        "\n",
        "8. There are 2 Maximum seat capacity and most of them have 49 seat capacity and frequency of 49 seat capacity is equal to frequency of bus, Thus we say that Bus have 49 seat capacity.\n",
        "\n",
        "\n",
        "\n",
        "\n",
        "\n",
        "\n",
        "\n"
      ],
      "metadata": {
        "id": "yQJyOKjbWWI9"
      }
    },
    {
      "cell_type": "markdown",
      "source": [
        "### Variables Description "
      ],
      "metadata": {
        "id": "PBTbrJXOngz2"
      }
    },
    {
      "cell_type": "code",
      "source": [
        "#get columns of the dataset\n",
        "column = dataset.columns\n",
        "column"
      ],
      "metadata": {
        "id": "wFgJWPW3KB9z"
      },
      "execution_count": null,
      "outputs": []
    },
    {
      "cell_type": "code",
      "source": [
        "#finding the relation between car_type and max_capacity\n",
        "dataset.groupby(['car_type','max_capacity'])['max_capacity'].count()  #.unstack()"
      ],
      "metadata": {
        "id": "WgcKqRhLKFxU"
      },
      "execution_count": null,
      "outputs": []
    },
    {
      "cell_type": "markdown",
      "source": [
        "We conclude that bus has 49 seat capacity and shuttle has 11 seat capacity."
      ],
      "metadata": {
        "id": "T0wcvKbKhW37"
      }
    },
    {
      "cell_type": "code",
      "source": [
        "#finding the relation between car_type and travel_from\n",
        "dataset.groupby(['travel_from','car_type'])['car_type'].count().unstack()"
      ],
      "metadata": {
        "id": "D3XMvJSCKoRH"
      },
      "execution_count": null,
      "outputs": []
    },
    {
      "cell_type": "markdown",
      "source": [
        "as we see that, Shuttle only used for travel from Keroka, Keumbu, Kijauri and Kisii town, whereas bus used for travel from all the town."
      ],
      "metadata": {
        "id": "R_DUEFqsh1M4"
      }
    },
    {
      "cell_type": "markdown",
      "source": [
        "### Check Unique Values for each variable."
      ],
      "metadata": {
        "id": "u3PMJOP6ngxN"
      }
    },
    {
      "cell_type": "markdown",
      "source": [
        "## 3. ***Find Traget Variable***\n",
        "\n",
        "Since we are not given the target variable so we need to find target variable first.\n",
        "\n",
        "There might be many ways of finding the target variable but here I am using one way that is I will find the count of each ride_id and that will be the number_of_ticket, this will be our target variable.\n"
      ],
      "metadata": {
        "id": "EquTdeZvPWAX"
      }
    },
    {
      "cell_type": "code",
      "source": [
        "#apply groupby on ride_id to get number of ticket\n",
        "target_df=dataset.groupby([\"ride_id\"]).seat_number.count().sort_values(ascending=False).rename(\"number_of_ticket\").reset_index()\n",
        "target_df.head()"
      ],
      "metadata": {
        "id": "zms12Yq5n-jE"
      },
      "execution_count": null,
      "outputs": []
    },
    {
      "cell_type": "code",
      "source": [
        "#drop duplicates\n",
        "dataset1=dataset.drop_duplicates(\"ride_id\")"
      ],
      "metadata": {
        "id": "HdfAfqV6b6JO"
      },
      "execution_count": null,
      "outputs": []
    },
    {
      "cell_type": "code",
      "source": [
        "dataset1.shape"
      ],
      "metadata": {
        "id": "RYtxHc0yb-SA"
      },
      "execution_count": null,
      "outputs": []
    },
    {
      "cell_type": "code",
      "source": [
        "#merge target variable and independent variable on the basis of ride_id\n",
        "dataset2 = dataset1.merge(target_df, how=\"left\",on=\"ride_id\")\n",
        "dataset2.head()"
      ],
      "metadata": {
        "id": "YLMImiubP5PK"
      },
      "execution_count": null,
      "outputs": []
    },
    {
      "cell_type": "markdown",
      "source": [
        "Now we have found our final dataset so let us remove some features that doesn't seem to be important for predicting the number of tickets in our model\n",
        "\n"
      ],
      "metadata": {
        "id": "es4UJRBXQ6Cp"
      }
    },
    {
      "cell_type": "code",
      "source": [
        "#remove ineffectual columns\n",
        "dataset2 = dataset2.drop(['seat_number','payment_receipt'], axis=1)"
      ],
      "metadata": {
        "id": "aD7c_X6xQ6Zv"
      },
      "execution_count": null,
      "outputs": []
    },
    {
      "cell_type": "code",
      "source": [
        "dataset2.head()"
      ],
      "metadata": {
        "id": "VADv_HZ3RC2B"
      },
      "execution_count": null,
      "outputs": []
    },
    {
      "cell_type": "markdown",
      "source": [
        "## 3. ***Data Wrangling***\n"
      ],
      "metadata": {
        "id": "dauF4eBmngu3"
      }
    },
    {
      "cell_type": "markdown",
      "source": [
        "##**Removing Constant Features**\n",
        "\n",
        "We need to first remove the constant features."
      ],
      "metadata": {
        "id": "xGkgzlhtgdJ6"
      }
    },
    {
      "cell_type": "code",
      "source": [
        "#travel_to is a constant features because it takes only 1 values (i.e., Nairobi)\n",
        "dataset2.drop([\"travel_to\"],axis=1,inplace=True)"
      ],
      "metadata": {
        "id": "PAq-L2avganM"
      },
      "execution_count": null,
      "outputs": []
    },
    {
      "cell_type": "markdown",
      "source": [
        "##**Feature Engineering**"
      ],
      "metadata": {
        "id": "Sh0RMqcbhRa8"
      }
    },
    {
      "cell_type": "code",
      "source": [
        "#combine travel date and travel time column and make a new feature called date.\n",
        "dataset2[\"date\"]=dataset2[\"travel_date\"]+ \" \"+ dataset2[\"travel_time\"]"
      ],
      "metadata": {
        "id": "ULtPbhhJ87A1"
      },
      "execution_count": null,
      "outputs": []
    },
    {
      "cell_type": "code",
      "source": [
        "#define a function based on time features\n",
        "def  time_features(df): \n",
        "\n",
        "  '''This function takes dataframe as an argument and extracts the\n",
        "  different features from the date variable of the dataset and finaly returns the updated \n",
        "  dataset'''\n",
        "  \n",
        "  df[\"date\"]=pd.to_datetime(df[\"date\"])\n",
        "  df[\"day_of_week\"]=df[\"date\"].dt.dayofweek\n",
        "  df[\"day_of_year\"]=df[\"date\"].dt.dayofyear\n",
        "  df[\"day_of_month\"]=df[\"date\"].dt.day\n",
        "  df[\"hour\"]=df[\"date\"].dt.hour\n",
        "  df[\"minute\"]=df[\"date\"].dt.minute\n",
        "  df[\"is_weekend\"]=df[\"day_of_week\"].apply( lambda x : 1 if x  in [6,7] else 0 )\n",
        "  df[\"year\"]=df[\"date\"].dt.year\n",
        "  df[\"quarter\"]=df[\"date\"].dt.quarter\n",
        "  df[\"month\"]=df[\"date\"].dt.month\n",
        "  return df"
      ],
      "metadata": {
        "id": "b6ScqOft81Tr"
      },
      "execution_count": null,
      "outputs": []
    },
    {
      "cell_type": "code",
      "source": [
        "#call the function \n",
        "dataset_new = time_features(dataset2)"
      ],
      "metadata": {
        "id": "ULHr4b3_ExUc"
      },
      "execution_count": null,
      "outputs": []
    },
    {
      "cell_type": "code",
      "source": [
        "#new dataframw with addition of time features\n",
        "dataset_new.head()"
      ],
      "metadata": {
        "id": "sjIQl-XXE7XI"
      },
      "execution_count": null,
      "outputs": []
    },
    {
      "cell_type": "code",
      "source": [
        "dataset_new.info()"
      ],
      "metadata": {
        "id": "J0TSG_0vZre3"
      },
      "execution_count": null,
      "outputs": []
    },
    {
      "cell_type": "code",
      "source": [
        "dataset_new.drop_duplicates()"
      ],
      "metadata": {
        "id": "85uMOn-BakMm"
      },
      "execution_count": null,
      "outputs": []
    },
    {
      "cell_type": "code",
      "source": [
        "#for particular car type\n",
        "dataset_bus=dataset_new[dataset_new[\"car_type\"]==\"Bus\"]\n",
        "dataset_shuttle=dataset_new[dataset_new[\"car_type\"]==\"shuttle\"]"
      ],
      "metadata": {
        "id": "63n_PaoXKHUQ"
      },
      "execution_count": null,
      "outputs": []
    },
    {
      "cell_type": "code",
      "source": [
        "#tuple\n",
        "datasets=(dataset_bus,dataset_shuttle)\n"
      ],
      "metadata": {
        "id": "WcWdNZXKLl4H"
      },
      "execution_count": null,
      "outputs": []
    },
    {
      "cell_type": "code",
      "source": [
        "#car_type value\n",
        "dataset_new[\"car_type\"].unique()"
      ],
      "metadata": {
        "id": "b9KhXkqcM2NI"
      },
      "execution_count": null,
      "outputs": []
    },
    {
      "cell_type": "markdown",
      "source": [
        "### What all manipulations have you done and insights you found?"
      ],
      "metadata": {
        "id": "MSa1f5Uengrz"
      }
    },
    {
      "cell_type": "markdown",
      "source": [
        "Answer Here."
      ],
      "metadata": {
        "id": "LbyXE7I1olp8"
      }
    },
    {
      "cell_type": "markdown",
      "source": [
        "## ***4. Data Vizualization, Storytelling & Experimenting with charts : Understand the relationships between variables***"
      ],
      "metadata": {
        "id": "gR2zWRXzWEtd"
      }
    },
    {
      "cell_type": "markdown",
      "source": [
        "### ***Univariate Analysis***"
      ],
      "metadata": {
        "id": "55e0MiVEWSL8"
      }
    },
    {
      "cell_type": "code",
      "source": [
        "#countplot for both number of ticket when travel is done by bus and by shuttle\n",
        "for d,car in zip(datasets,dataset_new[\"car_type\"].unique()):\n",
        "  y=d[\"number_of_ticket\"].value_counts().reset_index()[\"number_of_ticket\"]\n",
        "  #barplot \n",
        "  plt.figure(figsize=(10,10))\n",
        "  d[\"number_of_ticket\"].value_counts().plot(kind='barh',color=\"lightsteelblue\") #,color=\"thistle\")\n",
        "  for index, value in enumerate(y):\n",
        "    plt.text(value, index, str(value))\n",
        "  plt.xlabel(\"number_of_ticket by \" + car, fontsize=16)\n",
        "  plt.show()"
      ],
      "metadata": {
        "id": "6ZL_ivTnWbar"
      },
      "execution_count": null,
      "outputs": []
    },
    {
      "cell_type": "markdown",
      "source": [
        "**Summary:**\n",
        "\n",
        "By Bus, Number of ticket 1 is most frequent with value 699.\n",
        "\n",
        "By shuttle, Number of ticket 1 and 11 are most frequent with values 759 and 748 respectively.\n",
        "\n"
      ],
      "metadata": {
        "id": "3xipRolP8IY4"
      }
    },
    {
      "cell_type": "code",
      "source": [
        "#let's check for a particular number of ticket 50 which has frequency 1 i.e., 50 people are travel from the particular vehicle on a specific route on a specific day and time.\n",
        "dataset_new[dataset_new[\"number_of_ticket\"]==50]"
      ],
      "metadata": {
        "id": "61W7MszSVwBB"
      },
      "execution_count": null,
      "outputs": []
    },
    {
      "cell_type": "markdown",
      "source": [
        "Highest number of tickets is 50, in bus to travel from Sirare to Nairobi at 7:00 A.M. on 09-01-18 and payment is done using Mpesa."
      ],
      "metadata": {
        "id": "K6V6-lgFdh1c"
      }
    },
    {
      "cell_type": "code",
      "source": [
        "plot_count_cols = ['payment_method','car_type','max_capacity']\n",
        "for plots in plot_count_cols:\n",
        "  sns.countplot(dataset_new[plots],palette = \"Blues\")\n",
        "  plt.show()"
      ],
      "metadata": {
        "id": "dJHMQEKXVv95"
      },
      "execution_count": null,
      "outputs": []
    },
    {
      "cell_type": "markdown",
      "source": [
        "Mpesa is used mostly in Payment mode type, i.e., cash is less prefered by the people who travel to Nairobi.\n",
        "\n",
        "Mostly people travel by a bus (i.e. with maximum capacity 49) as compare to shuttle (whose maximum capacity is 11).\n",
        "\n"
      ],
      "metadata": {
        "id": "XvYq__ekfOjK"
      }
    },
    {
      "cell_type": "code",
      "source": [],
      "metadata": {
        "id": "P6E8rLn7ffCs"
      },
      "execution_count": null,
      "outputs": []
    },
    {
      "cell_type": "code",
      "source": [
        "#function for plotting countplot with values on their top.\n",
        "def countplot_values(feature):\n",
        "  y=dataset_new[feature].value_counts().reset_index()[feature]\n",
        "  #barplot \n",
        "  plt.figure(figsize=(10,10))\n",
        "  dataset_new[feature].value_counts().plot(kind='barh',color=\"lightsteelblue\")\n",
        "  for index, value in enumerate(y):\n",
        "    plt.text(value, index, str(value))\n",
        "  plt.show()\n",
        "  return feature"
      ],
      "metadata": {
        "id": "b2rGeWc4yNPz"
      },
      "execution_count": null,
      "outputs": []
    },
    {
      "cell_type": "markdown",
      "source": [
        "**Payment Method**"
      ],
      "metadata": {
        "id": "5ZHT69g1gwda"
      }
    },
    {
      "cell_type": "code",
      "source": [
        "countplot_values(\"payment_method\")"
      ],
      "metadata": {
        "id": "SZGGu2usf5XD"
      },
      "execution_count": null,
      "outputs": []
    },
    {
      "cell_type": "markdown",
      "source": [
        "Mpesa is used mostly in Payment mode type, i.e., cash is less prefered by the people who travel to Nairobi."
      ],
      "metadata": {
        "id": "hdeLG65agkSg"
      }
    },
    {
      "cell_type": "markdown",
      "source": [
        "**Car Type**"
      ],
      "metadata": {
        "id": "hefxIOxWg74x"
      }
    },
    {
      "cell_type": "code",
      "source": [
        "countplot_values(\"car_type\")"
      ],
      "metadata": {
        "id": "LKxmY69Wf5Sq"
      },
      "execution_count": null,
      "outputs": []
    },
    {
      "cell_type": "markdown",
      "source": [
        "Mostly people travel by a bus (i.e. with maximum capacity 49) as compare to shuttle (whose maximum capacity is 11)."
      ],
      "metadata": {
        "id": "X8X7X3CLhKK_"
      }
    },
    {
      "cell_type": "markdown",
      "source": [
        "**Travel Time**"
      ],
      "metadata": {
        "id": "7-FnuPNEhK3G"
      }
    },
    {
      "cell_type": "code",
      "source": [
        "countplot_values('travel_time')"
      ],
      "metadata": {
        "id": "4Ilp_uiThTAV"
      },
      "execution_count": null,
      "outputs": []
    },
    {
      "cell_type": "markdown",
      "source": [
        "Most prefer time for travel to Nairobi is 7:04 A.M., 7:08 A.M. and 7:06 A.M. because most vehicle are began at 7:04 A.M., 7:08 A.M. and 7:06 A.M. for travel to Nairobi."
      ],
      "metadata": {
        "id": "2kM4BpmWhXcQ"
      }
    },
    {
      "cell_type": "markdown",
      "source": [
        "**Travel From**"
      ],
      "metadata": {
        "id": "dJKxWAr7hcBA"
      }
    },
    {
      "cell_type": "code",
      "source": [
        "countplot_values('travel_from')"
      ],
      "metadata": {
        "id": "mE1SI4sFhZJg"
      },
      "execution_count": null,
      "outputs": []
    },
    {
      "cell_type": "markdown",
      "source": [
        "Mostly vehicle are originated from Kisii, Rongo and Kijauri."
      ],
      "metadata": {
        "id": "WqvGWrwxhvin"
      }
    },
    {
      "cell_type": "markdown",
      "source": [
        "**Year**"
      ],
      "metadata": {
        "id": "RHUvTOrwhzi4"
      }
    },
    {
      "cell_type": "code",
      "source": [
        "countplot_values('year')"
      ],
      "metadata": {
        "id": "afmr_Vv1hZDA"
      },
      "execution_count": null,
      "outputs": []
    },
    {
      "cell_type": "markdown",
      "source": [
        "This dataset contains data of 2 year.(i.e. 2017 and 2018)"
      ],
      "metadata": {
        "id": "eDjcHTHgh2GY"
      }
    },
    {
      "cell_type": "markdown",
      "source": [
        "**Quarter**"
      ],
      "metadata": {
        "id": "4R9GlGjeiIKQ"
      }
    },
    {
      "cell_type": "code",
      "source": [
        "countplot_values('quarter')"
      ],
      "metadata": {
        "id": "kXMXSqCMhY8I"
      },
      "execution_count": null,
      "outputs": []
    },
    {
      "cell_type": "markdown",
      "source": [
        "we conclude that maximum vehicles are used in quarter 1."
      ],
      "metadata": {
        "id": "RHZiJvtLiM3p"
      }
    },
    {
      "cell_type": "markdown",
      "source": [
        "**Month**"
      ],
      "metadata": {
        "id": "3Nnamja7jmKQ"
      }
    },
    {
      "cell_type": "code",
      "source": [
        "countplot_values('month')"
      ],
      "metadata": {
        "id": "KeCAgi2hhY1p"
      },
      "execution_count": null,
      "outputs": []
    },
    {
      "cell_type": "markdown",
      "source": [
        "we conclude that maximum vehicles are used in month 12, 2 and 1(means in summer season of nairobi)."
      ],
      "metadata": {
        "id": "tLQl7IUfjjUv"
      }
    },
    {
      "cell_type": "code",
      "source": [],
      "metadata": {
        "id": "51no9NwKhYtR"
      },
      "execution_count": null,
      "outputs": []
    },
    {
      "cell_type": "markdown",
      "source": [
        "#**Summary**\n",
        "From all of these plot, as we saw that,\n",
        "\n",
        "* By Bus, Number of ticket 1 is most frequent with value 699.\n",
        "\n",
        "* By shuttle, Number of ticket 1 and 11 are most frequent with values 759 and 748 respectively.\n",
        "\n",
        "* Mpesa is used mostly in Payment mode type, i.e., cash is less prefered by the people who travel to Nairobi.\n",
        "\n",
        "* Mostly people travel by a bus (i.e. with maximum capacity 49) as compare to shuttle (whose maximum capacity is 11).\n",
        "\n",
        "* Mostly vehicle are originated from Kisii, Rongo and Kijauri.\n",
        "\n",
        "* Most prefer time for travel to Nairobi is 7:04 A.M., 7:08 A.M. and 7:06 A.M..\n",
        "\n",
        "* This dataset contains data of 2 year (i.e. 2017 and 2018).\n",
        "\n",
        "* we conclude that maximum vehicles are used in quarter 1.\n",
        "\n",
        "* we conclude that maximum vehicles are used in month 12, 2 and 1(means in summer season of nairobi)."
      ],
      "metadata": {
        "id": "Gdl-_9_EYvrk"
      }
    },
    {
      "cell_type": "code",
      "source": [
        "#convert travel time unit into hour.\n",
        "dataset_new[\"travel_time\"] = dataset_new[\"travel_time\"].str.split(':').apply(lambda x: int(x[0]) + int(x[1])/60)"
      ],
      "metadata": {
        "id": "ulv6EQABKTTu"
      },
      "execution_count": null,
      "outputs": []
    },
    {
      "cell_type": "code",
      "source": [
        "dataset_new['travel_time']"
      ],
      "metadata": {
        "id": "bRZfCMully05"
      },
      "execution_count": null,
      "outputs": []
    },
    {
      "cell_type": "code",
      "source": [
        "#all columns of dataset_new\n",
        "dataset_new.columns.values"
      ],
      "metadata": {
        "id": "8r2xQ7kKbnIa"
      },
      "execution_count": null,
      "outputs": []
    },
    {
      "cell_type": "code",
      "source": [
        "#relevent column for histogram\n",
        "plot_col=['number_of_ticket','travel_time','day_of_month', 'day_of_week',\"month\"]"
      ],
      "metadata": {
        "id": "cGR3viAGZHGD"
      },
      "execution_count": null,
      "outputs": []
    },
    {
      "cell_type": "code",
      "source": [
        "#histogram\n",
        "for col in plot_col[0:]:\n",
        "    fig = plt.figure(figsize=(9, 6))\n",
        "    ax = fig.gca()\n",
        "    feature = dataset_new[col]\n",
        "    feature.hist(bins=50, ax = ax)\n",
        "    ax.axvline(feature.mean(), color='magenta', linestyle='dashed', linewidth=2)\n",
        "    ax.axvline(feature.median(), color='cyan', linestyle='dashed', linewidth=2)    \n",
        "    ax.set_title(col)\n",
        "plt.show()"
      ],
      "metadata": {
        "id": "mW9_L-OPeVXm"
      },
      "execution_count": null,
      "outputs": []
    },
    {
      "cell_type": "code",
      "source": [
        "numerical_feature = [col for col in dataset_new.describe().columns if col not in ['number_of_ticket'] ]\n",
        "numerical_feature"
      ],
      "metadata": {
        "id": "453spDFMoGnD"
      },
      "execution_count": null,
      "outputs": []
    },
    {
      "cell_type": "markdown",
      "source": [
        "# **Summary:**\n",
        "As we know that, positive skewed, negative skewed and no skewed in the data is determined by mean, median amd mode.\n",
        "\n",
        "if mean > median > mode then, distribution of the data is positively skewed,\n",
        "\n",
        "if mean = median = mode then, no skewed that is normally distributed,\n",
        "\n",
        "otherwise, it is negatively skewed.\n",
        "\n",
        "\n",
        "There is a positive skewed in number_of_ticket, ticket_time & month, approximately no skewed in day_of_month and negative skewed in day_of_week.\n"
      ],
      "metadata": {
        "id": "8-kAjRJtyQbg"
      }
    },
    {
      "cell_type": "code",
      "source": [
        "#boxplot\n",
        "plt.figure(figsize=(12,10))\n",
        "for x,y in zip(range(1,len(plot_col)+1),plot_col):\n",
        "    plt.subplot(2,3,x)\n",
        "    plt.boxplot(dataset_new[y],patch_artist=True,notch=True)\n",
        "    plt.xlabel(y,fontsize=16)\n",
        "\n",
        "plt.show()"
      ],
      "metadata": {
        "id": "aB_M7L9ItPa5"
      },
      "execution_count": null,
      "outputs": []
    },
    {
      "cell_type": "markdown",
      "source": [
        "#**Summary:**\n",
        "Boxplot gives us 5 point summary which consists of the minimum point, the first quartile, the median, the third quartile, and the maximum point. \n",
        "\n",
        "from Boxplot, we have got to know about outliers, as we see that, day_of_month, day_of_week, month have no outlier, but travel_time and number_of_ticket have a lot of outliers. "
      ],
      "metadata": {
        "id": "P_d3CptD2FC1"
      }
    },
    {
      "cell_type": "code",
      "source": [
        "dataset_new.describe(include=[\"object\"]).columns.values"
      ],
      "metadata": {
        "id": "5b6g1wcZFTUL"
      },
      "execution_count": null,
      "outputs": []
    },
    {
      "cell_type": "code",
      "source": [
        "categorical_features=['payment_method','travel_from','car_type']"
      ],
      "metadata": {
        "id": "uT6lgofnFxbf"
      },
      "execution_count": null,
      "outputs": []
    },
    {
      "cell_type": "code",
      "source": [
        "plt.figure(figsize=(20,15))\n",
        "\n",
        "ax = sns.countplot(dataset_new['travel_from'],hue=dataset_new['car_type'],palette=\"Blues\")\n",
        "\n",
        "plt.title(\"travel from different car\",size=20)\n",
        "\n",
        "for p in ax.patches:\n",
        "  ax.annotate(p.get_height(),(p.get_x() + p.get_width()/2,p.get_height()),ha='center',size= 12)\n",
        "    \n",
        "plt.show()"
      ],
      "metadata": {
        "id": "Opbjdl3E2XPo"
      },
      "execution_count": null,
      "outputs": []
    },
    {
      "cell_type": "markdown",
      "source": [
        "# **Bivariate Analysis**"
      ],
      "metadata": {
        "id": "3LAYWedSqpBi"
      }
    },
    {
      "cell_type": "code",
      "source": [
        "for col in numerical_feature:\n",
        "  if col != 'day_of_year' and col != 'ride_id':\n",
        "    dd = dataset_new.groupby([col])['number_of_ticket'].mean()\n",
        "    dd = dd.reset_index()\n",
        "    plt.figure(figsize =(10, 8))\n",
        "    plt.stem(dd[col], dd['number_of_ticket'])\n",
        "    plt.xlabel(col)\n",
        "    plt.ylabel('avg_number_of_seats')\n",
        "\n",
        "plt.show()"
      ],
      "metadata": {
        "id": "7BHDdLoGoQXB"
      },
      "execution_count": null,
      "outputs": []
    },
    {
      "cell_type": "code",
      "source": [
        "#stripplot\n",
        "def strip_plot(attribute):\n",
        "  for d,car in zip(datasets,dataset_new[\"car_type\"].unique()):\n",
        "    plt.figure(figsize=(18, 10))\n",
        "    sns.stripplot(x=attribute, y=\"number_of_ticket\", data=d)\n",
        "    plt.xlabel(\"by \" + car,fontsize=16)\n",
        "  return attribute"
      ],
      "metadata": {
        "id": "vBQ_THZIrE6g"
      },
      "execution_count": null,
      "outputs": []
    },
    {
      "cell_type": "code",
      "source": [
        "strip_plot(\"travel_from\")"
      ],
      "metadata": {
        "id": "T6k9b_cPrE3p"
      },
      "execution_count": null,
      "outputs": []
    },
    {
      "cell_type": "markdown",
      "source": [
        "#**Summary:**\n",
        "from the above stripplot by Bus, we conclude that number of ticket > 40 are mostly sold in Sirare and Migori.\n",
        "\n",
        "By shuttle, we conclude that each number of ticket is sold in Kisii with almost same frequency and in keumbu town, only number of ticket 1 and 2 is sold. \n",
        "\n"
      ],
      "metadata": {
        "id": "EYE8emQkI2Rm"
      }
    },
    {
      "cell_type": "code",
      "source": [
        "strip_plot(\"day_of_month\")"
      ],
      "metadata": {
        "id": "lDX9wGHXOpWu"
      },
      "execution_count": null,
      "outputs": []
    },
    {
      "cell_type": "markdown",
      "source": [
        "# **Summary:**\n",
        "We can see that there is the gap between 4 and 12 day of the month. We can assume that there is official holiday of public transport between these days. \n",
        "\n",
        "we can also say that the number of tickets from 1 to 10 in each days of month are almost same. but for number of tickets > 10 in all the days of month, there is some variation.\n",
        " "
      ],
      "metadata": {
        "id": "8j9Jb3zLIZvi"
      }
    },
    {
      "cell_type": "code",
      "source": [
        "strip_plot(\"hour\")"
      ],
      "metadata": {
        "id": "hiErO52DPH-2"
      },
      "execution_count": null,
      "outputs": []
    },
    {
      "cell_type": "markdown",
      "source": [
        "#**Summary:**\n",
        "By Bus, \n",
        "\n",
        "* We can see that most of the tickets were sold at 7 A.M that seems true because in the morning, most of the people go to the work.\n",
        "\n",
        "* we can say that there is no ride between 8 A.M. to 7:00 P.M.\n",
        "\n",
        "By shuttle,\n",
        "\n",
        "* Tickets were sold with almost same frequency at each time except 11:00.\n",
        "\n",
        "* There is a rides only between 4:00 A.M. to 12:00 P.M..\n"
      ],
      "metadata": {
        "id": "UwwHVf58Kgfc"
      }
    },
    {
      "cell_type": "code",
      "source": [
        "strip_plot(\"is_weekend\")"
      ],
      "metadata": {
        "id": "YeYtXKsaEIlI"
      },
      "execution_count": null,
      "outputs": []
    },
    {
      "cell_type": "markdown",
      "source": [
        "#**Summary:**\n",
        "\n",
        "Since, comparison between weekdays and weekends demand is unfair for this data,\n",
        "because weekdays are 5 and weekends are only 2.\n",
        "\n",
        "Thus, from the above plot, I conclude that there is no such difference in demand. but we see that, number of ticket more than maximum capacity is only on weekdays. "
      ],
      "metadata": {
        "id": "4QOaI4NgEZaC"
      }
    },
    {
      "cell_type": "code",
      "source": [
        "plt.figure(figsize=(12,8))\n",
        "sns.stripplot(dataset_new[\"travel_time\"],dataset_new[\"travel_from\"])"
      ],
      "metadata": {
        "id": "270rqb4wu7xO"
      },
      "execution_count": null,
      "outputs": []
    },
    {
      "cell_type": "markdown",
      "source": [
        "Above plot is plotted between travel time and travel from and from this, we got to know the timing of car for each town."
      ],
      "metadata": {
        "id": "XHrs1J7WxGeV"
      }
    },
    {
      "cell_type": "markdown",
      "source": [
        "# **Encoding Categorical features**"
      ],
      "metadata": {
        "id": "b2JWMqKZmals"
      }
    },
    {
      "cell_type": "code",
      "source": [
        "from sklearn import preprocessing #Import LabelEncoder\n",
        "data = pd.get_dummies(dataset_new, columns=['travel_from'])\n",
        "label_enc = {'Bus':1,'shuttle':0 ,\"Mpesa\":1,\"Cash\":0}\n",
        "data.replace(label_enc,inplace=True)"
      ],
      "metadata": {
        "id": "NHaCy8jjmZ0x"
      },
      "execution_count": null,
      "outputs": []
    },
    {
      "cell_type": "code",
      "source": [
        "#heatmap\n",
        "plt.figure(figsize=(20,20))\n",
        "sns.heatmap(data.corr(),annot=True,cmap=\"Blues\")"
      ],
      "metadata": {
        "id": "JEo0vtJn9Sn7"
      },
      "execution_count": null,
      "outputs": []
    },
    {
      "cell_type": "markdown",
      "source": [
        "#**Summary:**\n",
        "There is a high correlation between \n",
        "\n",
        "1) day_of_year & month,\n",
        "\n",
        "2) day_of_year and quarter,\n",
        "\n",
        "3) quarter and month.\n",
        " "
      ],
      "metadata": {
        "id": "ivdDm0zEHw1d"
      }
    },
    {
      "cell_type": "code",
      "source": [
        "#all numerical feature except target variable\n",
        "col=set(data.describe().columns.values)-{'number_of_ticket'}"
      ],
      "metadata": {
        "id": "sHNThT5_nogt"
      },
      "execution_count": null,
      "outputs": []
    },
    {
      "cell_type": "code",
      "source": [
        "#Multicollinearity by VIF\n",
        "from statsmodels.stats.outliers_influence import variance_inflation_factor\n",
        "def calc_vif(X):\n",
        "\n",
        "    # Calculating VIF\n",
        "    vif = pd.DataFrame()\n",
        "    vif[\"variables\"] = X.columns\n",
        "    vif[\"VIF\"] = [variance_inflation_factor(X.values, i) for i in range(X.shape[1])]\n",
        "\n",
        "    return(vif)"
      ],
      "metadata": {
        "id": "F1pR5wPXn4dE"
      },
      "execution_count": null,
      "outputs": []
    },
    {
      "cell_type": "code",
      "source": [
        "#call the function\n",
        "calc_vif(data[[i for i in col if i not in ['hour','minute']]])"
      ],
      "metadata": {
        "id": "VaQcA8FIn5o5"
      },
      "execution_count": null,
      "outputs": []
    },
    {
      "cell_type": "code",
      "source": [
        "calc_vif(data[[i for i in col if i not in ['hour','minute',\"travel_from_Kisii\",\"day_of_year\",\"quarter\",\"year\",\"payment_method\"]]])"
      ],
      "metadata": {
        "id": "oRZiEkdd9_SO"
      },
      "execution_count": null,
      "outputs": []
    },
    {
      "cell_type": "code",
      "source": [
        "#required independent features\n",
        "req_features=calc_vif(data[[i for i in col if i not in ['hour','minute',\"travel_from_Kisii\",\"day_of_year\",\"quarter\",\"year\",\"payment_method\"]]]).variables.values"
      ],
      "metadata": {
        "id": "xwJ-NtBT7dJo"
      },
      "execution_count": null,
      "outputs": []
    },
    {
      "cell_type": "code",
      "source": [
        "#make a new dataframe with independent and dependent features.\n",
        "dataset_final=data[req_features]\n",
        "dataset_final['number_of_ticket']=data['number_of_ticket']"
      ],
      "metadata": {
        "id": "AD_0IVPCrOw8"
      },
      "execution_count": null,
      "outputs": []
    },
    {
      "cell_type": "code",
      "source": [
        "#call dataframe\n",
        "dataset_final.head()"
      ],
      "metadata": {
        "id": "seoL3qWWrjX_"
      },
      "execution_count": null,
      "outputs": []
    },
    {
      "cell_type": "code",
      "source": [
        "#shape\n",
        "dataset_final.shape"
      ],
      "metadata": {
        "id": "x-OtQ_Ea_I4x"
      },
      "execution_count": null,
      "outputs": []
    },
    {
      "cell_type": "code",
      "source": [
        "#plot a heatmap to find the remaining correlated features.\n",
        "plt.figure(figsize=(20,20))\n",
        "sns.heatmap(dataset_final.corr(),annot=True)\n",
        "plt.show()"
      ],
      "metadata": {
        "id": "cBnzX2YaHP86"
      },
      "execution_count": null,
      "outputs": []
    },
    {
      "cell_type": "markdown",
      "source": [
        "These ia a correlation between\n",
        "\n",
        "1) day_of_week and is_weekend,\n",
        "\n",
        "2) car_type and travel_from_Rongo.\n",
        "\n",
        "Dependent variable has correlation with travel_from_Sirare, travel_from_Migori, travel_from_Homa Bay, car_type, travel_time and travel_from_Kijauri variable."
      ],
      "metadata": {
        "id": "j7mdzUGLKF0i"
      }
    },
    {
      "cell_type": "code",
      "source": [
        "#remove the correlated features for the dataset\n",
        "dataset_final.drop(columns=[\"day_of_week\",\"travel_from_Rongo\"],inplace=True)"
      ],
      "metadata": {
        "id": "RyocTrx0A7KN"
      },
      "execution_count": null,
      "outputs": []
    },
    {
      "cell_type": "code",
      "source": [
        "reg_col=(\"travel_from_Sirare\", \"travel_from_Migori\", \"travel_from_Homa Bay\", \"car_type\", \"travel_time\" ,\"travel_from_Kijauri\")"
      ],
      "metadata": {
        "id": "35orQAym1ITh"
      },
      "execution_count": null,
      "outputs": []
    },
    {
      "cell_type": "code",
      "source": [
        "plt.figure(figsize=(15,10))\n",
        "for x,y in zip(range(1,len(reg_col)+1),reg_col):\n",
        "    plt.subplot(2,3,x)\n",
        "    sns.regplot(dataset_final[\"number_of_ticket\"],dataset_final[y])\n",
        "    plt.xlabel(y,fontsize=16) \n",
        "plt.show()"
      ],
      "metadata": {
        "id": "HxSTLQTHxIPf"
      },
      "execution_count": null,
      "outputs": []
    },
    {
      "cell_type": "markdown",
      "source": [
        "# **Training the models**"
      ],
      "metadata": {
        "id": "HMu_3fvlm_sf"
      }
    },
    {
      "cell_type": "code",
      "source": [
        "#import libraries\n",
        "from sklearn.model_selection import train_test_split\n",
        "from sklearn.metrics import mean_absolute_error, mean_squared_error,r2_score"
      ],
      "metadata": {
        "id": "EX5bHLylnO1L"
      },
      "execution_count": null,
      "outputs": []
    },
    {
      "cell_type": "code",
      "source": [
        "#independent and dependent features\n",
        "from scipy.stats import zscore  \n",
        "y=dataset_final[\"number_of_ticket\"]\n",
        "X=dataset_final.drop(columns=[\"number_of_ticket\"]).apply(zscore) #apply zscore for scaling"
      ],
      "metadata": {
        "id": "s3c0l-ujoMz7"
      },
      "execution_count": null,
      "outputs": []
    },
    {
      "cell_type": "code",
      "source": [
        "#train test split\n",
        "X_train, X_test, y_train, y_test = train_test_split(X,y,test_size=0.20, random_state=42)"
      ],
      "metadata": {
        "id": "hHfC4zv-ngTx"
      },
      "execution_count": null,
      "outputs": []
    },
    {
      "cell_type": "code",
      "source": [],
      "metadata": {
        "id": "7OTqwVUfdzIH"
      },
      "execution_count": null,
      "outputs": []
    },
    {
      "cell_type": "markdown",
      "source": [
        "# **Linear Regression**"
      ],
      "metadata": {
        "id": "_f6xOQCHnq3u"
      }
    },
    {
      "cell_type": "code",
      "source": [
        "import math\n",
        "from sklearn.linear_model import LinearRegression"
      ],
      "metadata": {
        "id": "nusKPZ8kngO3"
      },
      "execution_count": null,
      "outputs": []
    },
    {
      "cell_type": "code",
      "source": [
        "#call the model\n",
        "model = LinearRegression()\n",
        "#fitting the model\n",
        "model.fit(X_train, y_train)\n",
        "# Prediction\n",
        "y_pred = model.predict(X_test)"
      ],
      "metadata": {
        "id": "AYFnt4QY0_ez"
      },
      "execution_count": null,
      "outputs": []
    },
    {
      "cell_type": "code",
      "source": [
        "# Model score on Train and Test\n",
        "train_model_lr = model.score(X_train,y_train)\n",
        "print('Training Accuracy:',train_model_lr)\n",
        "\n",
        "test_model_lr = model.score(X_test,y_test)\n",
        "print('Testing Accuracy:',test_model_lr)"
      ],
      "metadata": {
        "id": "2PxFl7wVJ-3c"
      },
      "execution_count": null,
      "outputs": []
    },
    {
      "cell_type": "code",
      "source": [
        "#define a function which print the result of Evaluation metrics.\n",
        "def print_metrics(actual, predicted):\n",
        "\n",
        "  print('MSE is {}'.format(mean_squared_error(actual, predicted)))\n",
        "  print('RMSE is {}'.format(math.sqrt(mean_squared_error(actual, predicted))))\n",
        "  print('r2 is {}'.format(r2_score(actual, predicted)))\n",
        "  print(\"adjust_r2 is {}\".format(1-(1-r2_score(y_test, y_pred))*((X_test.shape[0]-1)/(X_test.shape[0]-X_test.shape[1]-1))))\n",
        "  print('MAE is {}'.format(mean_absolute_error(actual, predicted)))\n",
        "  print('MAPE is {}'.format(np.mean(np.abs((actual - predicted) / actual)) * 100))"
      ],
      "metadata": {
        "id": "bq4D--qmo4eU"
      },
      "execution_count": null,
      "outputs": []
    },
    {
      "cell_type": "code",
      "source": [
        "#call the function\n",
        "print_metrics(y_test,y_pred)"
      ],
      "metadata": {
        "id": "Rgfb22UqpoY9"
      },
      "execution_count": null,
      "outputs": []
    },
    {
      "cell_type": "code",
      "source": [],
      "metadata": {
        "id": "Hp_jb_2afEZM"
      },
      "execution_count": null,
      "outputs": []
    },
    {
      "cell_type": "markdown",
      "source": [
        "# **Implementing Lasso Regression**"
      ],
      "metadata": {
        "id": "1JZ33PacqVuI"
      }
    },
    {
      "cell_type": "code",
      "source": [
        "#model fitting\n",
        "from sklearn.linear_model import Lasso\n",
        "lasso  = Lasso(alpha=0.1 , max_iter= 3000)\n",
        "\n",
        "lasso.fit(X_train, y_train)"
      ],
      "metadata": {
        "id": "gwtMsM5WpvAH"
      },
      "execution_count": null,
      "outputs": []
    },
    {
      "cell_type": "code",
      "source": [
        "lasso.score(X_train, y_train)"
      ],
      "metadata": {
        "id": "3DRumfOkqbyE"
      },
      "execution_count": null,
      "outputs": []
    },
    {
      "cell_type": "code",
      "source": [
        "#Model Prediction\n",
        "y_pred_lasso = lasso.predict(X_test)"
      ],
      "metadata": {
        "id": "yaVQ0pmVsbny"
      },
      "execution_count": null,
      "outputs": []
    },
    {
      "cell_type": "code",
      "source": [
        "# Model score on Train and Test\n",
        "train_model_llr = model.score(X_train,y_train)\n",
        "print('Training Accuracy:',train_model_llr)\n",
        "\n",
        "test_model_llr = model.score(X_test,y_test)\n",
        "print('Testing Accuracy:',test_model_llr)"
      ],
      "metadata": {
        "id": "zY68PiteKZqb"
      },
      "execution_count": null,
      "outputs": []
    },
    {
      "cell_type": "code",
      "source": [
        "#Evaluation metrics\n",
        "print_metrics(y_test,y_pred_lasso)"
      ],
      "metadata": {
        "id": "b73G0lHFsgdA"
      },
      "execution_count": null,
      "outputs": []
    },
    {
      "cell_type": "code",
      "source": [],
      "metadata": {
        "id": "LTPv3ny_flhx"
      },
      "execution_count": null,
      "outputs": []
    },
    {
      "cell_type": "markdown",
      "source": [
        "#**Cross Validation for Lasso Regression**"
      ],
      "metadata": {
        "id": "m8NrpD4euC1D"
      }
    },
    {
      "cell_type": "code",
      "source": [
        "from sklearn.model_selection import GridSearchCV"
      ],
      "metadata": {
        "id": "vgrhjj29sncw"
      },
      "execution_count": null,
      "outputs": []
    },
    {
      "cell_type": "code",
      "source": [
        "### Cross validation and hyperparameter tuning\n",
        "lasso = Lasso()\n",
        "parameters = {'alpha': [1e-15,1e-13,1e-10,1e-8,1e-5,1e-4,1e-3,1e-2,1e-1,1,5,10,20,30,40,45,50,55,60,100]}\n",
        "lasso_regressor = GridSearchCV(lasso, parameters, scoring='neg_mean_squared_error', cv=3)\n",
        "lasso_regressor.fit(X_train, y_train)"
      ],
      "metadata": {
        "id": "ibJwUXDptEIf"
      },
      "execution_count": null,
      "outputs": []
    },
    {
      "cell_type": "code",
      "source": [
        "print(\"The best fit alpha value is found out to be :\" ,lasso_regressor.best_params_)\n",
        "print(\"\\nUsing \",lasso_regressor.best_params_, \" the negative mean squared error is: \", lasso_regressor.best_score_)"
      ],
      "metadata": {
        "id": "2-qezggMtJiC"
      },
      "execution_count": null,
      "outputs": []
    },
    {
      "cell_type": "code",
      "source": [
        "#Model Prediction\n",
        "y_pred_lasso_cv = lasso_regressor.predict(X_test)"
      ],
      "metadata": {
        "id": "Ijk3X6DntPXJ"
      },
      "execution_count": null,
      "outputs": []
    },
    {
      "cell_type": "code",
      "source": [
        "# Model score on Train and Test\n",
        "train_model_lrh = model.score(X_train,y_train)\n",
        "print('Training Accuracy:',train_model_lrh)\n",
        "\n",
        "test_model_lrh = model.score(X_test,y_test)\n",
        "print('Testing Accuracy:',test_model_lrh)"
      ],
      "metadata": {
        "id": "RKBzoJ3kKkWH"
      },
      "execution_count": null,
      "outputs": []
    },
    {
      "cell_type": "code",
      "source": [
        "#Evaluation metrics\n",
        "print_metrics(y_test,y_pred_lasso_cv)"
      ],
      "metadata": {
        "id": "-0FPlCbqtUI6"
      },
      "execution_count": null,
      "outputs": []
    },
    {
      "cell_type": "code",
      "source": [],
      "metadata": {
        "id": "r5faqyqJhIPv"
      },
      "execution_count": null,
      "outputs": []
    },
    {
      "cell_type": "markdown",
      "source": [
        "# **Implementing Ridge Regression**"
      ],
      "metadata": {
        "id": "Uu61nYQ4tfve"
      }
    },
    {
      "cell_type": "code",
      "source": [
        "from sklearn.linear_model import Ridge\n",
        "\n",
        "ridge  = Ridge(alpha=0.1)"
      ],
      "metadata": {
        "id": "0qSkMiRxtYUn"
      },
      "execution_count": null,
      "outputs": []
    },
    {
      "cell_type": "code",
      "source": [
        "ridge.fit(X_train,y_train)"
      ],
      "metadata": {
        "id": "YGgxG-0EtmEM"
      },
      "execution_count": null,
      "outputs": []
    },
    {
      "cell_type": "code",
      "source": [
        "ridge.score(X_train, y_train)"
      ],
      "metadata": {
        "id": "j4kp4VqytqfC"
      },
      "execution_count": null,
      "outputs": []
    },
    {
      "cell_type": "code",
      "source": [
        "#Model Prediction\n",
        "y_pred_r = ridge.predict(X_test)"
      ],
      "metadata": {
        "id": "nVEYAd6sttDM"
      },
      "execution_count": null,
      "outputs": []
    },
    {
      "cell_type": "code",
      "source": [
        "# Model score on Train and Test\n",
        "train_model_rr = model.score(X_train,y_train)\n",
        "print('Training Accuracy:',train_model_rr)\n",
        "\n",
        "test_model_rr = model.score(X_test,y_test)\n",
        "print('Testing Accuracy:',test_model_rr)"
      ],
      "metadata": {
        "id": "501ZNKu2KtAs"
      },
      "execution_count": null,
      "outputs": []
    },
    {
      "cell_type": "code",
      "source": [
        "#Evaluation metrics\n",
        "print_metrics(y_test,y_pred_r)"
      ],
      "metadata": {
        "id": "Menrirrmtv8A"
      },
      "execution_count": null,
      "outputs": []
    },
    {
      "cell_type": "code",
      "source": [],
      "metadata": {
        "id": "FBH_ZYyThM-J"
      },
      "execution_count": null,
      "outputs": []
    },
    {
      "cell_type": "markdown",
      "source": [
        "#**Cross Validation for Ridge Regression**"
      ],
      "metadata": {
        "id": "GnS9WzR_t9uS"
      }
    },
    {
      "cell_type": "code",
      "source": [
        "# Cross validation and Hyperprarameter tuning\n",
        "ridge = Ridge()\n",
        "parameters = {'alpha': [1e-15,1e-10,1e-8,1e-5,1e-4,1e-3,1e-2,1,2,3,4,5,10,20,30,40,45,50,55,60,100]}\n",
        "ridge_regressor = GridSearchCV(ridge, parameters, scoring='neg_mean_squared_error', cv=3)\n",
        "ridge_regressor.fit(X_train,y_train)"
      ],
      "metadata": {
        "id": "n-ggYjFMt1Ah"
      },
      "execution_count": null,
      "outputs": []
    },
    {
      "cell_type": "code",
      "source": [
        "print(\"The best fit alpha value is found out to be :\" ,ridge_regressor.best_params_)\n",
        "print(\"\\nUsing \",ridge_regressor.best_params_, \" the negative mean squared error is: \", ridge_regressor.best_score_)"
      ],
      "metadata": {
        "id": "T_rGEVBPuNqI"
      },
      "execution_count": null,
      "outputs": []
    },
    {
      "cell_type": "code",
      "source": [
        "#Model Prediction\n",
        "y_pred_ridge = ridge_regressor.predict(X_test)"
      ],
      "metadata": {
        "id": "Zmk4YZfyuVRV"
      },
      "execution_count": null,
      "outputs": []
    },
    {
      "cell_type": "code",
      "source": [
        "# Model score on Train and Test\n",
        "train_model_rrh = model.score(X_train,y_train)\n",
        "print('Training Accuracy:',train_model_rrh)\n",
        "\n",
        "test_model_rrh = model.score(X_test,y_test)\n",
        "print('Testing Accuracy:',test_model_rrh)"
      ],
      "metadata": {
        "id": "PdDMBY3vK5Q4"
      },
      "execution_count": null,
      "outputs": []
    },
    {
      "cell_type": "code",
      "source": [
        "#Evaluation metrics\n",
        "print_metrics(y_test,y_pred_ridge)"
      ],
      "metadata": {
        "id": "Rq9eDp2KunKa"
      },
      "execution_count": null,
      "outputs": []
    },
    {
      "cell_type": "code",
      "source": [],
      "metadata": {
        "id": "4FNOtVzKim9B"
      },
      "execution_count": null,
      "outputs": []
    },
    {
      "cell_type": "markdown",
      "source": [
        "#**Implementing Elastic net Regression**"
      ],
      "metadata": {
        "id": "q_NbR2yhSI99"
      }
    },
    {
      "cell_type": "code",
      "source": [
        "from sklearn.linear_model import ElasticNet\n",
        "#a * L1 + b * L2\n",
        "#alpha = a + b and l1_ratio = a / (a + b)\n",
        "elasticnet = ElasticNet(alpha=0.1, l1_ratio=0.5)"
      ],
      "metadata": {
        "id": "ubdq1rTjSqzJ"
      },
      "execution_count": null,
      "outputs": []
    },
    {
      "cell_type": "code",
      "source": [
        "elasticnet.fit(X_train,y_train)"
      ],
      "metadata": {
        "id": "t4tPj_OHStNX"
      },
      "execution_count": null,
      "outputs": []
    },
    {
      "cell_type": "code",
      "source": [
        "elasticnet.score(X_train, y_train)"
      ],
      "metadata": {
        "id": "6nF5Rj8uSteJ"
      },
      "execution_count": null,
      "outputs": []
    },
    {
      "cell_type": "code",
      "source": [
        "y_pred_en = elasticnet.predict(X_test)"
      ],
      "metadata": {
        "id": "wgvMZV7JS1Co"
      },
      "execution_count": null,
      "outputs": []
    },
    {
      "cell_type": "code",
      "source": [
        "# Model score on Train and Test\n",
        "train_model_en = model.score(X_train,y_train)\n",
        "print('Training Accuracy:',train_model_en)\n",
        "\n",
        "test_model_en = model.score(X_test,y_test)\n",
        "print('Testing Accuracy:',test_model_en)"
      ],
      "metadata": {
        "id": "piCQXNJFLBQT"
      },
      "execution_count": null,
      "outputs": []
    },
    {
      "cell_type": "code",
      "source": [
        "#Evaluation metrics\n",
        "print_metrics(y_test,y_pred_en)"
      ],
      "metadata": {
        "id": "De4qvDrQS_Jm"
      },
      "execution_count": null,
      "outputs": []
    },
    {
      "cell_type": "code",
      "source": [],
      "metadata": {
        "id": "uaM7d8Utivby"
      },
      "execution_count": null,
      "outputs": []
    },
    {
      "cell_type": "markdown",
      "source": [
        "#**Running Grid Search Cross Validation for ELastic Net Regression**"
      ],
      "metadata": {
        "id": "PhbiTSgwTKOJ"
      }
    },
    {
      "cell_type": "code",
      "source": [
        "elastic = ElasticNet()\n",
        "parameters = {'alpha': [1e-15,1e-13,1e-10,1e-8,1e-5,1e-4,1e-3,1e-2,1e-1,1,5,10,20,30,40,45,50,55,60,100],'l1_ratio':[0.3,0.4,0.5,0.6,0.7,0.8]}\n",
        "elastic_regressor = GridSearchCV(elastic, parameters, scoring='neg_mean_squared_error',cv=5)\n",
        "elastic_regressor.fit(X_train, y_train)"
      ],
      "metadata": {
        "id": "RPV9Gh_2TH2a"
      },
      "execution_count": null,
      "outputs": []
    },
    {
      "cell_type": "code",
      "source": [
        "y_pred_elastic = elastic_regressor.predict(X_test)"
      ],
      "metadata": {
        "id": "N1e7VCvmTXhQ"
      },
      "execution_count": null,
      "outputs": []
    },
    {
      "cell_type": "code",
      "source": [
        "print(\"The best fit alpha value is found out to be :\" ,elastic_regressor.best_params_)\n",
        "print(\"\\nUsing \",elastic_regressor.best_params_, \" the negative mean squared error is: \", elastic_regressor.best_score_)"
      ],
      "metadata": {
        "id": "o_07Wby1TdF7"
      },
      "execution_count": null,
      "outputs": []
    },
    {
      "cell_type": "code",
      "source": [
        "# Model score on Train and Test\n",
        "train_model_enh = model.score(X_train,y_train)\n",
        "print('Training Accuracy:',train_model_enh)\n",
        "\n",
        "test_model_enh = model.score(X_test,y_test)\n",
        "print('Testing Accuracy:',test_model_enh)"
      ],
      "metadata": {
        "id": "ibUvffjYLIbw"
      },
      "execution_count": null,
      "outputs": []
    },
    {
      "cell_type": "code",
      "source": [
        "1#Evaluation metrics\n",
        "print_metrics(y_test,y_pred_elastic)"
      ],
      "metadata": {
        "id": "QdxmH1ZJTg0R"
      },
      "execution_count": null,
      "outputs": []
    },
    {
      "cell_type": "code",
      "source": [],
      "metadata": {
        "id": "S9E_dKTAjZR7"
      },
      "execution_count": null,
      "outputs": []
    },
    {
      "cell_type": "markdown",
      "source": [
        "#**Decision Tree**\n"
      ],
      "metadata": {
        "id": "492yzW4MNXtT"
      }
    },
    {
      "cell_type": "code",
      "source": [
        "decision_tree_data = data.copy()"
      ],
      "metadata": {
        "id": "yTmpW5p80G81"
      },
      "execution_count": null,
      "outputs": []
    },
    {
      "cell_type": "code",
      "source": [
        "# multicollinearity does not affect Tree based model so we will include distance and time take.\n",
        "unnecessary_cols = ['ride_id','number_of_ticket','date',\"travel_date\",'max_capacity']"
      ],
      "metadata": {
        "id": "FDeCOuVL0YI_"
      },
      "execution_count": null,
      "outputs": []
    },
    {
      "cell_type": "code",
      "source": [
        "# creating dependent and independant variable.\n",
        "x= decision_tree_data.drop(unnecessary_cols, axis=1)\n",
        "Y= decision_tree_data['number_of_ticket']"
      ],
      "metadata": {
        "id": "lAyEFFH00xw6"
      },
      "execution_count": null,
      "outputs": []
    },
    {
      "cell_type": "code",
      "source": [
        "#train and test split\n",
        "X_train1 , X_test1, y_train1, y_test1 = train_test_split(x,Y, test_size= 0.3, random_state=0 )"
      ],
      "metadata": {
        "id": "2VYMcSjm1RkH"
      },
      "execution_count": null,
      "outputs": []
    },
    {
      "cell_type": "code",
      "source": [
        "from sklearn.tree import DecisionTreeRegressor\n",
        "# fitting decision tree model\n",
        "tree_model = DecisionTreeRegressor( criterion='squared_error', max_leaf_nodes=30,max_depth= 30,random_state=0)\n",
        "tree_model.fit(X_train1, y_train1)"
      ],
      "metadata": {
        "id": "ERIsT_LaOTNb"
      },
      "execution_count": null,
      "outputs": []
    },
    {
      "cell_type": "code",
      "source": [
        "y_pred_tr = tree_model.predict(X_test1)"
      ],
      "metadata": {
        "id": "CkZ4e1z6-2oI"
      },
      "execution_count": null,
      "outputs": []
    },
    {
      "cell_type": "code",
      "source": [
        "# Model score on Train and Test\n",
        "train_model_tr = tree_model.score(X_train1,y_train1)\n",
        "print('Training Accuracy:',train_model_tr)\n",
        "\n",
        "test_model_tr = tree_model.score(X_test1,y_test1)\n",
        "print('Testing Accuracy:',test_model_tr)\n"
      ],
      "metadata": {
        "id": "xQzpAmCN91s8"
      },
      "execution_count": null,
      "outputs": []
    },
    {
      "cell_type": "code",
      "source": [
        "#Evaluation metrics\n",
        "print_metrics(y_test1,y_pred_tr)"
      ],
      "metadata": {
        "id": "YCqp49kT7jH4"
      },
      "execution_count": null,
      "outputs": []
    },
    {
      "cell_type": "markdown",
      "source": [
        "We can see we are not getting good score so far, Lets try \"Ensemble methods\""
      ],
      "metadata": {
        "id": "bi_pH61q2F1o"
      }
    },
    {
      "cell_type": "markdown",
      "source": [
        "## ***5. Hypothesis Testing***"
      ],
      "metadata": {
        "id": "g-ATYxFrGrvw"
      }
    },
    {
      "cell_type": "markdown",
      "source": [
        "### Based on your chart experiments, define three hypothetical statements from the dataset. In the next three questions, perform hypothesis testing to obtain final conclusion about the statements through your code and statistical testing."
      ],
      "metadata": {
        "id": "Yfr_Vlr8HBkt"
      }
    },
    {
      "cell_type": "markdown",
      "source": [
        "Answer Here."
      ],
      "metadata": {
        "id": "-7MS06SUHkB-"
      }
    },
    {
      "cell_type": "markdown",
      "source": [
        "### Hypothetical Statement - 1"
      ],
      "metadata": {
        "id": "8yEUt7NnHlrM"
      }
    },
    {
      "cell_type": "markdown",
      "source": [
        "#### 1. State Your research hypothesis as a null hypothesis and alternate hypothesis."
      ],
      "metadata": {
        "id": "tEA2Xm5dHt1r"
      }
    },
    {
      "cell_type": "markdown",
      "source": [
        "Answer Here."
      ],
      "metadata": {
        "id": "HI9ZP0laH0D-"
      }
    },
    {
      "cell_type": "markdown",
      "source": [
        "#### 2. Perform an appropriate statistical test."
      ],
      "metadata": {
        "id": "I79__PHVH19G"
      }
    },
    {
      "cell_type": "code",
      "source": [
        "# Perform Statistical Test to obtain P-Value"
      ],
      "metadata": {
        "id": "oZrfquKtyian"
      },
      "execution_count": null,
      "outputs": []
    },
    {
      "cell_type": "markdown",
      "source": [
        "##### Which statistical test have you done to obtain P-Value?"
      ],
      "metadata": {
        "id": "Ou-I18pAyIpj"
      }
    },
    {
      "cell_type": "markdown",
      "source": [
        "Answer Here."
      ],
      "metadata": {
        "id": "s2U0kk00ygSB"
      }
    },
    {
      "cell_type": "markdown",
      "source": [
        "##### Why did you choose the specific statistical test?"
      ],
      "metadata": {
        "id": "fF3858GYyt-u"
      }
    },
    {
      "cell_type": "markdown",
      "source": [
        "Answer Here."
      ],
      "metadata": {
        "id": "HO4K0gP5y3B4"
      }
    },
    {
      "cell_type": "markdown",
      "source": [
        "### Hypothetical Statement - 2"
      ],
      "metadata": {
        "id": "4_0_7-oCpUZd"
      }
    },
    {
      "cell_type": "markdown",
      "source": [
        "#### 1. State Your research hypothesis as a null hypothesis and alternate hypothesis."
      ],
      "metadata": {
        "id": "hwyV_J3ipUZe"
      }
    },
    {
      "cell_type": "markdown",
      "source": [
        "Answer Here."
      ],
      "metadata": {
        "id": "FnpLGJ-4pUZe"
      }
    },
    {
      "cell_type": "markdown",
      "source": [
        "#### 2. Perform an appropriate statistical test."
      ],
      "metadata": {
        "id": "3yB-zSqbpUZe"
      }
    },
    {
      "cell_type": "code",
      "source": [
        "# Perform Statistical Test to obtain P-Value"
      ],
      "metadata": {
        "id": "sWxdNTXNpUZe"
      },
      "execution_count": null,
      "outputs": []
    },
    {
      "cell_type": "markdown",
      "source": [
        "##### Which statistical test have you done to obtain P-Value?"
      ],
      "metadata": {
        "id": "dEUvejAfpUZe"
      }
    },
    {
      "cell_type": "markdown",
      "source": [
        "Answer Here."
      ],
      "metadata": {
        "id": "oLDrPz7HpUZf"
      }
    },
    {
      "cell_type": "markdown",
      "source": [
        "##### Why did you choose the specific statistical test?"
      ],
      "metadata": {
        "id": "Fd15vwWVpUZf"
      }
    },
    {
      "cell_type": "markdown",
      "source": [
        "Answer Here."
      ],
      "metadata": {
        "id": "4xOGYyiBpUZf"
      }
    },
    {
      "cell_type": "markdown",
      "source": [
        "### Hypothetical Statement - 3"
      ],
      "metadata": {
        "id": "bn_IUdTipZyH"
      }
    },
    {
      "cell_type": "markdown",
      "source": [
        "#### 1. State Your research hypothesis as a null hypothesis and alternate hypothesis."
      ],
      "metadata": {
        "id": "49K5P_iCpZyH"
      }
    },
    {
      "cell_type": "markdown",
      "source": [
        "Answer Here."
      ],
      "metadata": {
        "id": "7gWI5rT9pZyH"
      }
    },
    {
      "cell_type": "markdown",
      "source": [
        "#### 2. Perform an appropriate statistical test."
      ],
      "metadata": {
        "id": "Nff-vKELpZyI"
      }
    },
    {
      "cell_type": "code",
      "source": [
        "# Perform Statistical Test to obtain P-Value"
      ],
      "metadata": {
        "id": "s6AnJQjtpZyI"
      },
      "execution_count": null,
      "outputs": []
    },
    {
      "cell_type": "markdown",
      "source": [
        "##### Which statistical test have you done to obtain P-Value?"
      ],
      "metadata": {
        "id": "kLW572S8pZyI"
      }
    },
    {
      "cell_type": "markdown",
      "source": [
        "Answer Here."
      ],
      "metadata": {
        "id": "ytWJ8v15pZyI"
      }
    },
    {
      "cell_type": "markdown",
      "source": [
        "##### Why did you choose the specific statistical test?"
      ],
      "metadata": {
        "id": "dWbDXHzopZyI"
      }
    },
    {
      "cell_type": "markdown",
      "source": [
        "Answer Here."
      ],
      "metadata": {
        "id": "M99G98V6pZyI"
      }
    },
    {
      "cell_type": "markdown",
      "source": [
        "## ***6. Feature Engineering & Data Pre-processing***"
      ],
      "metadata": {
        "id": "yLjJCtPM0KBk"
      }
    },
    {
      "cell_type": "markdown",
      "source": [
        "### 1. Handling Missing Values"
      ],
      "metadata": {
        "id": "xiyOF9F70UgQ"
      }
    },
    {
      "cell_type": "code",
      "source": [
        "# Handling Missing Values & Missing Value Imputation"
      ],
      "metadata": {
        "id": "iRsAHk1K0fpS"
      },
      "execution_count": null,
      "outputs": []
    },
    {
      "cell_type": "markdown",
      "source": [
        "#### What all missing value imputation techniques have you used and why did you use those techniques?"
      ],
      "metadata": {
        "id": "7wuGOrhz0itI"
      }
    },
    {
      "cell_type": "markdown",
      "source": [
        "Answer Here."
      ],
      "metadata": {
        "id": "1ixusLtI0pqI"
      }
    },
    {
      "cell_type": "markdown",
      "source": [
        "### 2. Handling Outliers"
      ],
      "metadata": {
        "id": "id1riN9m0vUs"
      }
    },
    {
      "cell_type": "code",
      "source": [
        "# Handling Outliers & Outlier treatments"
      ],
      "metadata": {
        "id": "M6w2CzZf04JK"
      },
      "execution_count": null,
      "outputs": []
    },
    {
      "cell_type": "markdown",
      "source": [
        "##### What all outlier treatment techniques have you used and why did you use those techniques?"
      ],
      "metadata": {
        "id": "578E2V7j08f6"
      }
    },
    {
      "cell_type": "markdown",
      "source": [
        "Answer Here."
      ],
      "metadata": {
        "id": "uGZz5OrT1HH-"
      }
    },
    {
      "cell_type": "markdown",
      "source": [
        "### 3. Categorical Encoding"
      ],
      "metadata": {
        "id": "89xtkJwZ18nB"
      }
    },
    {
      "cell_type": "code",
      "source": [
        "# Encode your categorical columns"
      ],
      "metadata": {
        "id": "21JmIYMG2hEo"
      },
      "execution_count": null,
      "outputs": []
    },
    {
      "cell_type": "markdown",
      "source": [
        "#### What all categorical encoding techniques have you used & why did you use those techniques?"
      ],
      "metadata": {
        "id": "67NQN5KX2AMe"
      }
    },
    {
      "cell_type": "markdown",
      "source": [
        "Answer Here."
      ],
      "metadata": {
        "id": "UDaue5h32n_G"
      }
    },
    {
      "cell_type": "markdown",
      "source": [
        "### 4. Textual Data Preprocessing \n",
        "(It's mandatory for textual dataset i.e., NLP, Sentiment Analysis, Text Clustering etc.)"
      ],
      "metadata": {
        "id": "Iwf50b-R2tYG"
      }
    },
    {
      "cell_type": "markdown",
      "source": [
        "#### 1. Expand Contraction"
      ],
      "metadata": {
        "id": "GMQiZwjn3iu7"
      }
    },
    {
      "cell_type": "code",
      "source": [
        "# Expand Contraction"
      ],
      "metadata": {
        "id": "PTouz10C3oNN"
      },
      "execution_count": null,
      "outputs": []
    },
    {
      "cell_type": "markdown",
      "source": [
        "#### 2. Lower Casing"
      ],
      "metadata": {
        "id": "WVIkgGqN3qsr"
      }
    },
    {
      "cell_type": "code",
      "source": [
        "# Lower Casing"
      ],
      "metadata": {
        "id": "88JnJ1jN3w7j"
      },
      "execution_count": null,
      "outputs": []
    },
    {
      "cell_type": "markdown",
      "source": [
        "#### 3. Removing Punctuations"
      ],
      "metadata": {
        "id": "XkPnILGE3zoT"
      }
    },
    {
      "cell_type": "code",
      "source": [
        "# Remove Punctuations"
      ],
      "metadata": {
        "id": "vqbBqNaA33c0"
      },
      "execution_count": null,
      "outputs": []
    },
    {
      "cell_type": "markdown",
      "source": [
        "#### 4. Removing URLs & Removing words and digits contain digits."
      ],
      "metadata": {
        "id": "Hlsf0x5436Go"
      }
    },
    {
      "cell_type": "code",
      "source": [
        "# Remove URLs & Remove words and digits contain digits"
      ],
      "metadata": {
        "id": "2sxKgKxu4Ip3"
      },
      "execution_count": null,
      "outputs": []
    },
    {
      "cell_type": "markdown",
      "source": [
        "#### 5. Removing Stopwords & Removing White spaces"
      ],
      "metadata": {
        "id": "mT9DMSJo4nBL"
      }
    },
    {
      "cell_type": "code",
      "source": [
        "# Remove Stopwords"
      ],
      "metadata": {
        "id": "T2LSJh154s8W"
      },
      "execution_count": null,
      "outputs": []
    },
    {
      "cell_type": "code",
      "source": [
        "# Remove White spaces"
      ],
      "metadata": {
        "id": "EgLJGffy4vm0"
      },
      "execution_count": null,
      "outputs": []
    },
    {
      "cell_type": "markdown",
      "source": [
        "#### 6. Rephrase Text"
      ],
      "metadata": {
        "id": "c49ITxTc407N"
      }
    },
    {
      "cell_type": "code",
      "source": [
        "# Rephrase Text"
      ],
      "metadata": {
        "id": "foqY80Qu48N2"
      },
      "execution_count": null,
      "outputs": []
    },
    {
      "cell_type": "markdown",
      "source": [
        "#### 7. Tokenization"
      ],
      "metadata": {
        "id": "OeJFEK0N496M"
      }
    },
    {
      "cell_type": "code",
      "source": [
        "# Tokenization"
      ],
      "metadata": {
        "id": "ijx1rUOS5CUU"
      },
      "execution_count": null,
      "outputs": []
    },
    {
      "cell_type": "markdown",
      "source": [
        "#### 8. Text Normalization"
      ],
      "metadata": {
        "id": "9ExmJH0g5HBk"
      }
    },
    {
      "cell_type": "code",
      "source": [
        "# Normalizing Text (i.e., Stemming, Lemmatization etc.)"
      ],
      "metadata": {
        "id": "AIJ1a-Zc5PY8"
      },
      "execution_count": null,
      "outputs": []
    },
    {
      "cell_type": "markdown",
      "source": [
        "##### Which text normalization technique have you used and why?"
      ],
      "metadata": {
        "id": "cJNqERVU536h"
      }
    },
    {
      "cell_type": "markdown",
      "source": [
        "Answer Here."
      ],
      "metadata": {
        "id": "Z9jKVxE06BC1"
      }
    },
    {
      "cell_type": "markdown",
      "source": [
        "#### 9. Part of speech tagging"
      ],
      "metadata": {
        "id": "k5UmGsbsOxih"
      }
    },
    {
      "cell_type": "code",
      "source": [
        "# POS Taging"
      ],
      "metadata": {
        "id": "btT3ZJBAO6Ik"
      },
      "execution_count": null,
      "outputs": []
    },
    {
      "cell_type": "markdown",
      "source": [
        "#### 10. Text Vectorization"
      ],
      "metadata": {
        "id": "T0VqWOYE6DLQ"
      }
    },
    {
      "cell_type": "code",
      "source": [
        "# Vectorizing Text"
      ],
      "metadata": {
        "id": "yBRtdhth6JDE"
      },
      "execution_count": null,
      "outputs": []
    },
    {
      "cell_type": "markdown",
      "source": [
        "##### Which text vectorization technique have you used and why?"
      ],
      "metadata": {
        "id": "qBMux9mC6MCf"
      }
    },
    {
      "cell_type": "markdown",
      "source": [
        "Answer Here."
      ],
      "metadata": {
        "id": "su2EnbCh6UKQ"
      }
    },
    {
      "cell_type": "markdown",
      "source": [
        "### 4. Feature Manipulation & Selection"
      ],
      "metadata": {
        "id": "-oLEiFgy-5Pf"
      }
    },
    {
      "cell_type": "markdown",
      "source": [
        "#### 1. Feature Manipulation"
      ],
      "metadata": {
        "id": "C74aWNz2AliB"
      }
    },
    {
      "cell_type": "code",
      "source": [
        "# Manipulate Features to minimize feature correlation and create new features"
      ],
      "metadata": {
        "id": "h1qC4yhBApWC"
      },
      "execution_count": null,
      "outputs": []
    },
    {
      "cell_type": "markdown",
      "source": [
        "#### 2. Feature Selection"
      ],
      "metadata": {
        "id": "2DejudWSA-a0"
      }
    },
    {
      "cell_type": "code",
      "source": [
        "# Select your features wisely to avoid overfitting"
      ],
      "metadata": {
        "id": "YLhe8UmaBCEE"
      },
      "execution_count": null,
      "outputs": []
    },
    {
      "cell_type": "markdown",
      "source": [
        "##### What all feature selection methods have you used  and why?"
      ],
      "metadata": {
        "id": "pEMng2IbBLp7"
      }
    },
    {
      "cell_type": "markdown",
      "source": [
        "Answer Here."
      ],
      "metadata": {
        "id": "rb2Lh6Z8BgGs"
      }
    },
    {
      "cell_type": "markdown",
      "source": [
        "##### Which all features you found important and why?"
      ],
      "metadata": {
        "id": "rAdphbQ9Bhjc"
      }
    },
    {
      "cell_type": "markdown",
      "source": [
        "Answer Here."
      ],
      "metadata": {
        "id": "fGgaEstsBnaf"
      }
    },
    {
      "cell_type": "markdown",
      "source": [
        "### 5. Data Transformation"
      ],
      "metadata": {
        "id": "TNVZ9zx19K6k"
      }
    },
    {
      "cell_type": "markdown",
      "source": [
        "#### Do you think that your data needs to be transformed? If yes, which transformation have you used. Explain Why?"
      ],
      "metadata": {
        "id": "nqoHp30x9hH9"
      }
    },
    {
      "cell_type": "code",
      "source": [
        "# Transform Your data"
      ],
      "metadata": {
        "id": "I6quWQ1T9rtH"
      },
      "execution_count": null,
      "outputs": []
    },
    {
      "cell_type": "markdown",
      "source": [
        "### 6. Data Scaling"
      ],
      "metadata": {
        "id": "rMDnDkt2B6du"
      }
    },
    {
      "cell_type": "code",
      "source": [
        "# Scaling your data"
      ],
      "metadata": {
        "id": "dL9LWpySC6x_"
      },
      "execution_count": null,
      "outputs": []
    },
    {
      "cell_type": "markdown",
      "source": [
        "##### Which method have you used to scale you data and why?"
      ],
      "metadata": {
        "id": "yiiVWRdJDDil"
      }
    },
    {
      "cell_type": "markdown",
      "source": [
        "### 7. Dimesionality Reduction"
      ],
      "metadata": {
        "id": "1UUpS68QDMuG"
      }
    },
    {
      "cell_type": "markdown",
      "source": [
        "##### Do you think that dimensionality reduction is needed? Explain Why?"
      ],
      "metadata": {
        "id": "kexQrXU-DjzY"
      }
    },
    {
      "cell_type": "markdown",
      "source": [
        "Answer Here."
      ],
      "metadata": {
        "id": "GGRlBsSGDtTQ"
      }
    },
    {
      "cell_type": "code",
      "source": [
        "# DImensionality Reduction (If needed)"
      ],
      "metadata": {
        "id": "kQfvxBBHDvCa"
      },
      "execution_count": null,
      "outputs": []
    },
    {
      "cell_type": "markdown",
      "source": [
        "##### Which dimensionality reduction technique have you used and why? (If dimensionality reduction done on dataset.)"
      ],
      "metadata": {
        "id": "T5CmagL3EC8N"
      }
    },
    {
      "cell_type": "markdown",
      "source": [
        "Answer Here."
      ],
      "metadata": {
        "id": "ZKr75IDuEM7t"
      }
    },
    {
      "cell_type": "markdown",
      "source": [
        "### 8. Data Splitting"
      ],
      "metadata": {
        "id": "BhH2vgX9EjGr"
      }
    },
    {
      "cell_type": "code",
      "source": [
        "# Split your data to train and test. Choose Splitting ratio wisely."
      ],
      "metadata": {
        "id": "0CTyd2UwEyNM"
      },
      "execution_count": null,
      "outputs": []
    },
    {
      "cell_type": "markdown",
      "source": [
        "##### What data splitting ratio have you used and why? "
      ],
      "metadata": {
        "id": "qjKvONjwE8ra"
      }
    },
    {
      "cell_type": "markdown",
      "source": [
        "Answer Here."
      ],
      "metadata": {
        "id": "Y2lJ8cobFDb_"
      }
    },
    {
      "cell_type": "markdown",
      "source": [
        "### 9. Handling Imbalanced Dataset"
      ],
      "metadata": {
        "id": "P1XJ9OREExlT"
      }
    },
    {
      "cell_type": "markdown",
      "source": [
        "##### Do you think the dataset is imbalanced? Explain Why."
      ],
      "metadata": {
        "id": "VFOzZv6IFROw"
      }
    },
    {
      "cell_type": "markdown",
      "source": [
        "Answer Here."
      ],
      "metadata": {
        "id": "GeKDIv7pFgcC"
      }
    },
    {
      "cell_type": "code",
      "source": [
        "# Handling Imbalanced Dataset (If needed)"
      ],
      "metadata": {
        "id": "nQsRhhZLFiDs"
      },
      "execution_count": null,
      "outputs": []
    },
    {
      "cell_type": "markdown",
      "source": [
        "##### What technique did you use to handle the imbalance dataset and why? (If needed to be balanced)"
      ],
      "metadata": {
        "id": "TIqpNgepFxVj"
      }
    },
    {
      "cell_type": "markdown",
      "source": [
        "Answer Here."
      ],
      "metadata": {
        "id": "qbet1HwdGDTz"
      }
    },
    {
      "cell_type": "markdown",
      "source": [
        "## ***7. ML Model Implementation***"
      ],
      "metadata": {
        "id": "VfCC591jGiD4"
      }
    },
    {
      "cell_type": "markdown",
      "source": [
        "### ML Model - 1"
      ],
      "metadata": {
        "id": "OB4l2ZhMeS1U"
      }
    },
    {
      "cell_type": "code",
      "source": [
        "# ML Model - 1 Implementation\n",
        "\n",
        "# Fit the Algorithm\n",
        "\n",
        "# Predict on the model"
      ],
      "metadata": {
        "id": "7ebyywQieS1U"
      },
      "execution_count": null,
      "outputs": []
    },
    {
      "cell_type": "markdown",
      "source": [
        "#### 1. Explain the ML Model used and it's performance using Evaluation metric Score Chart."
      ],
      "metadata": {
        "id": "ArJBuiUVfxKd"
      }
    },
    {
      "cell_type": "code",
      "source": [
        "# Visualizing evaluation Metric Score chart"
      ],
      "metadata": {
        "id": "rqD5ZohzfxKe"
      },
      "execution_count": null,
      "outputs": []
    },
    {
      "cell_type": "markdown",
      "source": [
        "#### 2. Cross- Validation & Hyperparameter Tuning"
      ],
      "metadata": {
        "id": "4qY1EAkEfxKe"
      }
    },
    {
      "cell_type": "code",
      "source": [
        "# ML Model - 1 Implementation with hyperparameter optimization techniques (i.e., GridSearch CV, RandomSearch CV, Bayesian Optimization etc.)\n",
        "\n",
        "# Fit the Algorithm\n",
        "\n",
        "# Predict on the model"
      ],
      "metadata": {
        "id": "Dy61ujd6fxKe"
      },
      "execution_count": null,
      "outputs": []
    },
    {
      "cell_type": "markdown",
      "source": [
        "##### Which hyperparameter optimization technique have you used and why?"
      ],
      "metadata": {
        "id": "PiV4Ypx8fxKe"
      }
    },
    {
      "cell_type": "markdown",
      "source": [
        "Answer Here."
      ],
      "metadata": {
        "id": "negyGRa7fxKf"
      }
    },
    {
      "cell_type": "markdown",
      "source": [
        "##### Have you seen any improvement? Note down the improvement with updates Evaluation metric Score Chart."
      ],
      "metadata": {
        "id": "TfvqoZmBfxKf"
      }
    },
    {
      "cell_type": "markdown",
      "source": [
        "Answer Here."
      ],
      "metadata": {
        "id": "OaLui8CcfxKf"
      }
    },
    {
      "cell_type": "markdown",
      "source": [
        "### ML Model - 2"
      ],
      "metadata": {
        "id": "dJ2tPlVmpsJ0"
      }
    },
    {
      "cell_type": "markdown",
      "source": [
        "#### 1. Explain the ML Model used and it's performance using Evaluation metric Score Chart."
      ],
      "metadata": {
        "id": "JWYfwnehpsJ1"
      }
    },
    {
      "cell_type": "code",
      "source": [
        "# Visualizing evaluation Metric Score chart"
      ],
      "metadata": {
        "id": "yEl-hgQWpsJ1"
      },
      "execution_count": null,
      "outputs": []
    },
    {
      "cell_type": "markdown",
      "source": [
        "#### 2. Cross- Validation & Hyperparameter Tuning"
      ],
      "metadata": {
        "id": "-jK_YjpMpsJ2"
      }
    },
    {
      "cell_type": "code",
      "source": [
        "# ML Model - 1 Implementation with hyperparameter optimization techniques (i.e., GridSearch CV, RandomSearch CV, Bayesian Optimization etc.)\n",
        "\n",
        "# Fit the Algorithm\n",
        "\n",
        "# Predict on the model"
      ],
      "metadata": {
        "id": "Dn0EOfS6psJ2"
      },
      "execution_count": null,
      "outputs": []
    },
    {
      "cell_type": "markdown",
      "source": [
        "##### Which hyperparameter optimization technique have you used and why?"
      ],
      "metadata": {
        "id": "HAih1iBOpsJ2"
      }
    },
    {
      "cell_type": "markdown",
      "source": [
        "Answer Here."
      ],
      "metadata": {
        "id": "9kBgjYcdpsJ2"
      }
    },
    {
      "cell_type": "markdown",
      "source": [
        "##### Have you seen any improvement? Note down the improvement with updates Evaluation metric Score Chart."
      ],
      "metadata": {
        "id": "zVGeBEFhpsJ2"
      }
    },
    {
      "cell_type": "markdown",
      "source": [
        "Answer Here."
      ],
      "metadata": {
        "id": "74yRdG6UpsJ3"
      }
    },
    {
      "cell_type": "markdown",
      "source": [
        "#### 3. Explain each evaluation metric's indication towards business and the business impact pf the ML model used."
      ],
      "metadata": {
        "id": "bmKjuQ-FpsJ3"
      }
    },
    {
      "cell_type": "markdown",
      "source": [
        "Answer Here."
      ],
      "metadata": {
        "id": "BDKtOrBQpsJ3"
      }
    },
    {
      "cell_type": "markdown",
      "source": [
        "### ML Model - 3"
      ],
      "metadata": {
        "id": "Fze-IPXLpx6K"
      }
    },
    {
      "cell_type": "code",
      "source": [
        "# ML Model - 3 Implementation\n",
        "\n",
        "# Fit the Algorithm\n",
        "\n",
        "# Predict on the model"
      ],
      "metadata": {
        "id": "FFrSXAtrpx6M"
      },
      "execution_count": null,
      "outputs": []
    },
    {
      "cell_type": "markdown",
      "source": [
        "#### 1. Explain the ML Model used and it's performance using Evaluation metric Score Chart."
      ],
      "metadata": {
        "id": "7AN1z2sKpx6M"
      }
    },
    {
      "cell_type": "code",
      "source": [
        "# Visualizing evaluation Metric Score chart"
      ],
      "metadata": {
        "id": "xIY4lxxGpx6M"
      },
      "execution_count": null,
      "outputs": []
    },
    {
      "cell_type": "markdown",
      "source": [
        "#### 2. Cross- Validation & Hyperparameter Tuning"
      ],
      "metadata": {
        "id": "9PIHJqyupx6M"
      }
    },
    {
      "cell_type": "code",
      "source": [
        "# ML Model - 3 Implementation with hyperparameter optimization techniques (i.e., GridSearch CV, RandomSearch CV, Bayesian Optimization etc.)\n",
        "\n",
        "# Fit the Algorithm\n",
        "\n",
        "# Predict on the model"
      ],
      "metadata": {
        "id": "eSVXuaSKpx6M"
      },
      "execution_count": null,
      "outputs": []
    },
    {
      "cell_type": "markdown",
      "source": [
        "##### Which hyperparameter optimization technique have you used and why?"
      ],
      "metadata": {
        "id": "_-qAgymDpx6N"
      }
    },
    {
      "cell_type": "markdown",
      "source": [
        "Answer Here."
      ],
      "metadata": {
        "id": "lQMffxkwpx6N"
      }
    },
    {
      "cell_type": "markdown",
      "source": [
        "##### Have you seen any improvement? Note down the improvement with updates Evaluation metric Score Chart."
      ],
      "metadata": {
        "id": "Z-hykwinpx6N"
      }
    },
    {
      "cell_type": "markdown",
      "source": [
        "Answer Here."
      ],
      "metadata": {
        "id": "MzVzZC6opx6N"
      }
    },
    {
      "cell_type": "markdown",
      "source": [
        "### 1. Which Evaluation metrics did you consider for a positive business impact and why?"
      ],
      "metadata": {
        "id": "h_CCil-SKHpo"
      }
    },
    {
      "cell_type": "markdown",
      "source": [
        "Answer Here."
      ],
      "metadata": {
        "id": "jHVz9hHDKFms"
      }
    },
    {
      "cell_type": "markdown",
      "source": [
        "### 2. Which ML model did you choose from the above created models as your final prediction model and why?"
      ],
      "metadata": {
        "id": "cBFFvTBNJzUa"
      }
    },
    {
      "cell_type": "markdown",
      "source": [
        "Answer Here."
      ],
      "metadata": {
        "id": "6ksF5Q1LKTVm"
      }
    },
    {
      "cell_type": "markdown",
      "source": [
        "### 3. Explain the model which you have used and the feature importance using any model explainability tool?"
      ],
      "metadata": {
        "id": "HvGl1hHyA_VK"
      }
    },
    {
      "cell_type": "markdown",
      "source": [
        "Answer Here."
      ],
      "metadata": {
        "id": "YnvVTiIxBL-C"
      }
    },
    {
      "cell_type": "markdown",
      "source": [
        "## ***8.*** ***Future Work (Optional)***"
      ],
      "metadata": {
        "id": "EyNgTHvd2WFk"
      }
    },
    {
      "cell_type": "markdown",
      "source": [
        "### 1. Save the best performing ml model in a pickle file or joblib file format for deployment process.\n"
      ],
      "metadata": {
        "id": "KH5McJBi2d8v"
      }
    },
    {
      "cell_type": "code",
      "source": [
        "# Save the File"
      ],
      "metadata": {
        "id": "bQIANRl32f4J"
      },
      "execution_count": null,
      "outputs": []
    },
    {
      "cell_type": "markdown",
      "source": [
        "### 2. Again Load the saved model file and try to predict unseen data for a sanity check.\n"
      ],
      "metadata": {
        "id": "iW_Lq9qf2h6X"
      }
    },
    {
      "cell_type": "code",
      "source": [
        "# Load the File and predict unseen data."
      ],
      "metadata": {
        "id": "oEXk9ydD2nVC"
      },
      "execution_count": null,
      "outputs": []
    },
    {
      "cell_type": "markdown",
      "source": [
        "### ***Congrats! Your model is successfully created and ready for deployment on a live server for a real user interaction !!!***"
      ],
      "metadata": {
        "id": "-Kee-DAl2viO"
      }
    },
    {
      "cell_type": "markdown",
      "source": [
        "# **Conclusion**"
      ],
      "metadata": {
        "id": "gCX9965dhzqZ"
      }
    },
    {
      "cell_type": "markdown",
      "source": [
        "Write the conclusion here."
      ],
      "metadata": {
        "id": "Fjb1IsQkh3yE"
      }
    },
    {
      "cell_type": "markdown",
      "source": [
        "### ***Hurrah! You have successfully completed your Machine Learning Capstone Project !!!***"
      ],
      "metadata": {
        "id": "gIfDvo9L0UH2"
      }
    }
  ]
}